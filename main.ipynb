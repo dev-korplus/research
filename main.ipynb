{
 "cells": [
  {
   "cell_type": "code",
   "execution_count": 66,
   "id": "ae640871",
   "metadata": {},
   "outputs": [],
   "source": [
    "# CSS Color Scheme Integration for Plotly\n",
    "import polars as pl \n",
    "import numpy as np \n",
    "from plotly import graph_objects as go \n",
    "import plotly.express as px \n",
    "import plotly.figure_factory as ff \n",
    "import plotly.io as pio\n",
    "\n",
    "\n",
    "# Light theme colors (from your CSS :root) - Plotly compatible\n",
    "LIGHT_THEME = {\n",
    "    'background': '#ffffff',  # oklch(1 0 0)\n",
    "    'foreground': '#252525',  # oklch(0.145 0 0) \n",
    "    'card': '#ffffff',        # oklch(1 0 0)\n",
    "    'primary': '#343434',     # oklch(0.205 0 0)\n",
    "    'secondary': '#f7f7f7',   # oklch(0.97 0 0)\n",
    "    'muted': '#f7f7f7',       # oklch(0.97 0 0)\n",
    "    'accent': '#f7f7f7',      # oklch(0.97 0 0)\n",
    "    'border': '#ebebeb',      # oklch(0.922 0 0)\n",
    "    'destructive': '#e2483d', # oklch(0.577 0.245 27.325)\n",
    "    'chart_1': '#d97706',     # oklch(0.646 0.222 41.116)\n",
    "    'chart_2': '#0891b2',     # oklch(0.6 0.118 184.704)\n",
    "    'chart_3': '#7c3aed',    # oklch(0.398 0.07 227.392)\n",
    "    'chart_4': '#65a30d',    # oklch(0.828 0.189 84.429)\n",
    "    'chart_5': '#ca8a04',    # oklch(0.769 0.188 70.08)\n",
    "}\n",
    "\n",
    "# Dark theme colors (from your CSS .dark) - Plotly compatible\n",
    "DARK_THEME = {\n",
    "    'background': '#252525',  # oklch(0.145 0 0)\n",
    "    'foreground': '#fafafa',  # oklch(0.985 0 0)\n",
    "    'card': '#343434',        # oklch(0.205 0 0)\n",
    "    'primary': '#ebebeb',     # oklch(0.922 0 0)\n",
    "    'secondary': '#444444',   # oklch(0.269 0 0)\n",
    "    'muted': '#444444',       # oklch(0.269 0 0)\n",
    "    'accent': '#444444',      # oklch(0.269 0 0)\n",
    "    'border': '#404040',      # Fixed: was '#ffffff1a' - Plotly doesn't support alpha in hex\n",
    "    'destructive': '#f87171', # oklch(0.704 0.191 22.216)\n",
    "    'chart_1': '#8b5cf6',    # oklch(0.488 0.243 264.376)\n",
    "    'chart_2': '#06b6d4',    # oklch(0.696 0.17 162.48)\n",
    "    'chart_3': '#ca8a04',    # oklch(0.769 0.188 70.08)\n",
    "    'chart_4': '#a855f7',    # oklch(0.627 0.265 303.9)\n",
    "    'chart_5': '#dc2626',    # oklch(0.645 0.246 16.439)\n",
    "}\n",
    "\n",
    "# Plotly theme configurations\n",
    "def get_plotly_theme(theme_dict, is_dark=False):\n",
    "    \"\"\"Create Plotly theme configuration from CSS color scheme\"\"\"\n",
    "    return {\n",
    "        'layout': {\n",
    "            'paper_bgcolor': theme_dict['background'],\n",
    "            'plot_bgcolor': theme_dict['card'],\n",
    "            'font': {\n",
    "                'family': 'Source Code Pro, monospace', \n",
    "                'color': theme_dict['foreground'],\n",
    "                'size': 12\n",
    "            },\n",
    "            'title': {\n",
    "                'font': {\n",
    "                    'family': 'Source Code Pro, monospace',\n",
    "                    'color': theme_dict['foreground'],\n",
    "                    'size': 16\n",
    "                }\n",
    "            },\n",
    "            'xaxis': {\n",
    "                'gridcolor': theme_dict['border'],\n",
    "                'linecolor': theme_dict['border'],\n",
    "                'tickcolor': theme_dict['border'],\n",
    "                'title_font': {'color': theme_dict['foreground']},\n",
    "                'tickfont': {'color': theme_dict['foreground']}\n",
    "            },\n",
    "            'yaxis': {\n",
    "                'gridcolor': theme_dict['border'],\n",
    "                'linecolor': theme_dict['border'],\n",
    "                'tickcolor': theme_dict['border'],\n",
    "                'title_font': {'color': theme_dict['foreground']},\n",
    "                'tickfont': {'color': theme_dict['foreground']}\n",
    "            },\n",
    "            'legend': {\n",
    "                'bgcolor': theme_dict['card'],\n",
    "                'bordercolor': theme_dict['border'],\n",
    "                'font': {'color': theme_dict['foreground']}\n",
    "            }\n",
    "        }\n",
    "    }\n",
    "\n",
    "# Create theme configurations\n",
    "LIGHT_PLOTLY_THEME = get_plotly_theme(LIGHT_THEME, False)\n",
    "DARK_PLOTLY_THEME = get_plotly_theme(DARK_THEME, True)\n",
    "\n",
    "# Chart color palettes based on your CSS chart colors\n",
    "CHART_COLORS_LIGHT = [\n",
    "    LIGHT_THEME['chart_1'],\n",
    "    LIGHT_THEME['chart_2'], \n",
    "    LIGHT_THEME['chart_3'],\n",
    "    LIGHT_THEME['chart_4'],\n",
    "    LIGHT_THEME['chart_5']\n",
    "]\n",
    "\n",
    "CHART_COLORS_DARK = [\n",
    "    DARK_THEME['chart_1'],\n",
    "    DARK_THEME['chart_2'],\n",
    "    DARK_THEME['chart_3'], \n",
    "    DARK_THEME['chart_4'],\n",
    "    DARK_THEME['chart_5']\n",
    "]\n",
    "\n",
    "def update_layout(fig: go.Figure, title: str, theme: str = \"light\"):\n",
    "    \n",
    "    if theme == \"dark\":\n",
    "        theme_config = DARK_PLOTLY_THEME\n",
    "        chart_colors = CHART_COLORS_DARK\n",
    "    else:\n",
    "        theme_config = LIGHT_PLOTLY_THEME\n",
    "        chart_colors = CHART_COLORS_LIGHT\n",
    "\n",
    "    fig.update_layout(**theme_config['layout'])\n",
    "    fig.update_layout(title=title)\n",
    "    for i, trace in enumerate(fig.data):\n",
    "        if hasattr(trace, 'line') and trace.line:\n",
    "            trace.line.color = chart_colors[i % len(chart_colors)]\n",
    "        elif hasattr(trace, 'marker') and trace.marker:\n",
    "            trace.marker.color = chart_colors[i % len(chart_colors)]\n",
    "    fig.update_layout(legend = dict(orientation=\"h\", yanchor=\"bottom\", y=-0.25, xanchor=\"center\", x=0.5))\n",
    "    fig.update_xaxes(\n",
    "        showgrid=True, gridcolor=_BRAND_GRID, zerolinecolor=_BRAND_GRID, gridwidth=0.5\n",
    "    )\n",
    "    fig.update_yaxes(\n",
    "        showgrid=True, gridcolor=_BRAND_GRID, zerolinecolor=_BRAND_GRID, gridwidth=0.5\n",
    "    )\n",
    "\n",
    "    return fig\n"
   ]
  },
  {
   "cell_type": "code",
   "execution_count": null,
   "id": "90efc843",
   "metadata": {},
   "outputs": [],
   "source": [
    "def update_layout(fig: go.Figure, title: str, scale: float = 1.0):\n",
    "\n",
    "    fig.update_layout(\n",
    "        title=dict(\n",
    "            text=title,\n",
    "            x=0.025,\n",
    "            xanchor=\"left\",\n",
    "            font=dict(family=_FONTS[\"title\"], size=24, color=_BRAND_FG),\n",
    "        ),\n",
    "        font=dict(family=_FONTS[\"content\"], size=12, color=_BRAND_FG),\n",
    "        paper_bgcolor=_BRAND_BG,\n",
    "        plot_bgcolor=_BRAND_BG,\n",
    "        height=600 * scale,\n",
    "        width=1200 * scale,\n",
    "        margin=dict(l=100, r=100, t=100, b=100),\n",
    "        showlegend=True,\n",
    "        legend=dict(\n",
    "            orientation=\"v\",\n",
    "            y=-0.35,\n",
    "            x=0.5,\n",
    "            xanchor=\"center\",\n",
    "            yanchor=\"bottom\",\n",
    "            bgcolor=\"rgba(0,0,0,0)\",\n",
    "            font=dict(size=11),\n",
    "        ),\n",
    "    )\n",
    "\n",
    "    fig.update_xaxes(\n",
    "        showgrid=True, gridcolor=_BRAND_GRID, zerolinecolor=_BRAND_GRID, gridwidth=0.5\n",
    "    )\n",
    "    fig.update_yaxes(\n",
    "        showgrid=True, gridcolor=_BRAND_GRID, zerolinecolor=_BRAND_GRID, gridwidth=0.5\n",
    "    )\n",
    "\n",
    "\n",
    "_load_font_css()"
   ]
  },
  {
   "cell_type": "code",
   "execution_count": 67,
   "id": "989068e2",
   "metadata": {},
   "outputs": [
    {
     "data": {
      "application/vnd.plotly.v1+json": {
       "config": {
        "plotlyServerURL": "https://plot.ly"
       },
       "data": [
        {
         "line": {
          "color": "#d97706"
         },
         "mode": "lines",
         "name": "Sine Wave",
         "type": "scatter",
         "x": {
          "bdata": "AAAAAAAAAAAxb2dIzNu5PzFvZ0jM28k/ZZNNNtlk0z8xb2dIzNvZP3+lQK1fKeA/ZZNNNtlk4z9LgVq/UqDmPzFvZ0jM2+k/F1100UUX7T9/pUCtXynwP3Icx3Ecx/E/ZZNNNtlk8z9YCtT6lQL1P0uBWr9SoPY/Pvjggw8++D8xb2dIzNv5PyTm7QyJefs/F1100UUX/T8K1PqVArX+P3+lQK1fKQBA+OCDDz74AEByHMdxHMcBQOtXCtT6lQJAZZNNNtlkA0DezpCYtzMEQFgK1PqVAgVA0UUXXXTRBUBLgVq/UqAGQMS8nSExbwdAPvjggw8+CEC3MyTm7QwJQDFvZ0jM2wlAq6qqqqqqCkAk5u0MiXkLQJ4hMW9nSAxAF1100UUXDUCRmLczJOYNQArU+pUCtQ5AhA8++OCDD0B/pUCtXykQQDtDYt7OkBBA+OCDDz74EEC1fqVArV8RQHIcx3EcxxFALrrooosuEkDrVwrU+pUSQKj1KwVq/RJAZZNNNtlkE0AiMW9nSMwTQN7OkJi3MxRAm2yyySabFEBYCtT6lQIVQBWo9SsFahVA0UUXXXTRFUCO4ziO4zgWQEuBWr9SoBZACB988MEHF0DEvJ0hMW8XQIFav1Kg1hdAPvjggw8+GED7lQK1fqUYQLczJObtDBlAdNFFF110GUAxb2dIzNsZQO4MiXk7QxpAq6qqqqqqGkBnSMzbGRIbQCTm7QyJeRtA4YMPPvjgG0CeITFvZ0gcQFq/UqDWrxxAF1100UUXHUDU+pUCtX4dQJGYtzMk5h1ATTbZZJNNHkAK1PqVArUeQMdxHMdxHB9AhA8++OCDH0BArV8pUOsfQH+lQK1fKSBAXXTRRRddIEA7Q2LezpAgQBoS83aGxCBA+OCDDz74IEDXrxSo9SshQLV+pUCtXyFAk0022WSTIUByHMdxHMchQFDrVwrU+iFALrrooosuIkANiXk7Q2IiQOtXCtT6lSJAyiabbLLJIkCo9SsFav0iQIbEvJ0hMSNAZZNNNtlkI0BDYt7OkJgjQCIxb2dIzCNAAAAAAAAAJEA=",
          "dtype": "f8"
         },
         "y": {
          "bdata": "ImlZqZ/Vyr+4TjrxkeOlP/greDm5tLM/9iKGDYdd2D/W/Z5HTXrxPype+hx/Quw/NL4c3iRE7D97eA6xA3z2P52rQZvjufc/Jlsgdnd8+D/02AjAJ8X6P1Yydt0rsPc/8E2TQb87+z/DJ3uJPGj5P0IL6l19n/0/N0rlutiA/j8GaNhyKTj7P9fUl81Z6/4/45ahqM7WAECcFN2Qfqn+Pyj+VUtCqf8/1Kte0NWG9z9AbehF5hH2P26+AINboPo/WiZU7yP69D9NkY1ci2byPyTOFCWx7vM/siAONyH05T9ab3TUwlnNP/603PHcldI/RvJH4R0xtr+WrfFycgfXP8CbugBYs6O/iQG2Nkt72r+WQZ7JWgvtvx6ahDPVLfG/rbRiiAyu8L9gBE+7V6f2v/Wa2y/ZVfO/7rMdTJrC8L8/CcYUBqT6vxxfTr/aT/2/LDL/XyK6+79gxca6aHb7vzu53MKge/e/awnOzEMQ/b+ma/Lm6fn5v95aLQAabv2/lDFvXKucAcBdUZ4hqTX+v9e8KQcX/vq/ta8NPusGAMCUSZdQ9m75vz8edlzRL/u/4qhZj5qS9L+e7/xAuO/2v2rUWneXnvK/we5+IIHm6r/6pSjkOZfwvwWzgFY8c+m/u4pfeiPr5L9UUP6QjEynv3DXNnIjdc8/zlxdWVovoz+oqH9PlErdP6xQHmYlm+k/QwdaTZkA5z/QCTvGEGroP/2N3tG6suU/KlaW2A9K+T/zCnSrRU73PzYfx5KGevQ/1A4ztlJN9z+D4pqhXmsAQOT0qFbMUvU/oG2LvK42AkAAOnLWLwcAQFROwZ64nwFAsIB3OBUXAEA5KjoUIC3/P6rkOKSrpgBA1PZy2Bok/D/AozgN+av5P6/RNl5ua/4/+1zNJBk79z9x3egzNb/3P+RFYVc+hPg/cj0jsknY8D/MDBWo/S71PyRrFeFgwew/Lr2XawwC5D9yV5PowfviP7ZNoaHtWtY/eKXUGiJCmT98Z2GbDUq/P3aBUjVkqd6/cLNMvFIo7L9+vgtBZ6ztv/TcB58ffe+/q3/4vKtq7b8=",
          "dtype": "f8"
         }
        },
        {
         "line": {
          "color": "#0891b2"
         },
         "mode": "lines",
         "name": "Cosine Wave",
         "type": "scatter",
         "x": {
          "bdata": "AAAAAAAAAAAxb2dIzNu5PzFvZ0jM28k/ZZNNNtlk0z8xb2dIzNvZP3+lQK1fKeA/ZZNNNtlk4z9LgVq/UqDmPzFvZ0jM2+k/F1100UUX7T9/pUCtXynwP3Icx3Ecx/E/ZZNNNtlk8z9YCtT6lQL1P0uBWr9SoPY/Pvjggw8++D8xb2dIzNv5PyTm7QyJefs/F1100UUX/T8K1PqVArX+P3+lQK1fKQBA+OCDDz74AEByHMdxHMcBQOtXCtT6lQJAZZNNNtlkA0DezpCYtzMEQFgK1PqVAgVA0UUXXXTRBUBLgVq/UqAGQMS8nSExbwdAPvjggw8+CEC3MyTm7QwJQDFvZ0jM2wlAq6qqqqqqCkAk5u0MiXkLQJ4hMW9nSAxAF1100UUXDUCRmLczJOYNQArU+pUCtQ5AhA8++OCDD0B/pUCtXykQQDtDYt7OkBBA+OCDDz74EEC1fqVArV8RQHIcx3EcxxFALrrooosuEkDrVwrU+pUSQKj1KwVq/RJAZZNNNtlkE0AiMW9nSMwTQN7OkJi3MxRAm2yyySabFEBYCtT6lQIVQBWo9SsFahVA0UUXXXTRFUCO4ziO4zgWQEuBWr9SoBZACB988MEHF0DEvJ0hMW8XQIFav1Kg1hdAPvjggw8+GED7lQK1fqUYQLczJObtDBlAdNFFF110GUAxb2dIzNsZQO4MiXk7QxpAq6qqqqqqGkBnSMzbGRIbQCTm7QyJeRtA4YMPPvjgG0CeITFvZ0gcQFq/UqDWrxxAF1100UUXHUDU+pUCtX4dQJGYtzMk5h1ATTbZZJNNHkAK1PqVArUeQMdxHMdxHB9AhA8++OCDH0BArV8pUOsfQH+lQK1fKSBAXXTRRRddIEA7Q2LezpAgQBoS83aGxCBA+OCDDz74IEDXrxSo9SshQLV+pUCtXyFAk0022WSTIUByHMdxHMchQFDrVwrU+iFALrrooosuIkANiXk7Q2IiQOtXCtT6lSJAyiabbLLJIkCo9SsFav0iQIbEvJ0hMSNAZZNNNtlkI0BDYt7OkJgjQCIxb2dIzCNAAAAAAAAAJEA=",
          "dtype": "f8"
         },
         "y": {
          "bdata": "iVcu6Pmm/D9NCmzjoWH2PzvJfxjWnPQ/1qajJT+d9z+Xa1nMltf3P5+qCjksMPQ/g1Ho53VD9T/NjAy7HT/vP/EJ5mwuh+8/2hVZjPch6T+jibh0zZrmPxhWWXRqI+I/rcqr8ZYk4T9ulTr++V7lP6IeTlQFTMU/rP4Afx0E1L8A7rfuJ1LAv0xxsCtD4t2/6CZQKwhEwb+6R3jKdwvmvw82iUT2dua/SXjOz0995b/i+iVZg8Luvxav8mXQQPW/XNYtLP9x778IVn+uBGzwvyou3dO99PS/Ozmqq9cG+L8aWCT0Wy31v02faXwDAPi/ZDnjg0hE+r+JlTcxrBT7v+bkB2pIF/W/XiC1aaae9b98OO+tuv7wvxH0ZFqpf/O/Kq8p1dil9r8qaSK51oTpvw6IvgeMbfK/XUtZRBMv7r9LQ/YjdOjmv4jO3/EzM/C/OCdevcLh5b8+DV1BBz7kvyT/7Xtjeea/y1AUGE020r+wUejWVOPDv4XM9rHk5LG/2OjJazeonT/MPAxIMPTIP9SUpF47rNo/8NjczEGQ7D+MWBpKZc/wP2NxOnAiNfI/NX8gezQG9z/HKMuvS1bwPxvaTq/TieY/YZKZ2rm+9j/0DadiC8HyP+iv8M6twvc/rHVCmYky9T8qXwCLGw35P27cYcTHrvo/jG2eVflz+j/famgVJbT3P+ntj5Hp4vY/eWAJ49gw9D+8u0EG9qT4PyTcjbjy7PU/Upc8jHBG8z/a8dw7NRLxPzDQLy/ncuw/UjHSysTg5T/sBo7KGtXlP4R4gnrDa90/FzYN78T73D86TiHgsMPPPxD1nVNPcpe/gJSrBcEES7+vlaH7buvQv8J+o8ORTeG/ap3t2A2/1b8UYpQaDxTmv/S9zwHj5ey/IZEEZlp17b8XWoDeRuDxv87v04vyh/W/b4KuwJ7w8r8h5M3sXSrzv1sm0zMKKPi/0iov/KQg8r+p9z25Pl/4v7ODLKRwcPa/v1SRt2Fi+L9Ij9JyKo3xvy6dhF8pRvq/IHdK8/G2+b96BztkGg71v3toCN6eu/W/HhFK8UJD+L8=",
          "dtype": "f8"
         }
        },
        {
         "line": {
          "color": "#7c3aed"
         },
         "mode": "lines",
         "name": "Linear Trend",
         "type": "scatter",
         "x": {
          "bdata": "AAAAAAAAAAAxb2dIzNu5PzFvZ0jM28k/ZZNNNtlk0z8xb2dIzNvZP3+lQK1fKeA/ZZNNNtlk4z9LgVq/UqDmPzFvZ0jM2+k/F1100UUX7T9/pUCtXynwP3Icx3Ecx/E/ZZNNNtlk8z9YCtT6lQL1P0uBWr9SoPY/Pvjggw8++D8xb2dIzNv5PyTm7QyJefs/F1100UUX/T8K1PqVArX+P3+lQK1fKQBA+OCDDz74AEByHMdxHMcBQOtXCtT6lQJAZZNNNtlkA0DezpCYtzMEQFgK1PqVAgVA0UUXXXTRBUBLgVq/UqAGQMS8nSExbwdAPvjggw8+CEC3MyTm7QwJQDFvZ0jM2wlAq6qqqqqqCkAk5u0MiXkLQJ4hMW9nSAxAF1100UUXDUCRmLczJOYNQArU+pUCtQ5AhA8++OCDD0B/pUCtXykQQDtDYt7OkBBA+OCDDz74EEC1fqVArV8RQHIcx3EcxxFALrrooosuEkDrVwrU+pUSQKj1KwVq/RJAZZNNNtlkE0AiMW9nSMwTQN7OkJi3MxRAm2yyySabFEBYCtT6lQIVQBWo9SsFahVA0UUXXXTRFUCO4ziO4zgWQEuBWr9SoBZACB988MEHF0DEvJ0hMW8XQIFav1Kg1hdAPvjggw8+GED7lQK1fqUYQLczJObtDBlAdNFFF110GUAxb2dIzNsZQO4MiXk7QxpAq6qqqqqqGkBnSMzbGRIbQCTm7QyJeRtA4YMPPvjgG0CeITFvZ0gcQFq/UqDWrxxAF1100UUXHUDU+pUCtX4dQJGYtzMk5h1ATTbZZJNNHkAK1PqVArUeQMdxHMdxHB9AhA8++OCDH0BArV8pUOsfQH+lQK1fKSBAXXTRRRddIEA7Q2LezpAgQBoS83aGxCBA+OCDDz74IEDXrxSo9SshQLV+pUCtXyFAk0022WSTIUByHMdxHMchQFDrVwrU+iFALrrooosuIkANiXk7Q2IiQOtXCtT6lSJAyiabbLLJIkCo9SsFav0iQIbEvJ0hMSNAZZNNNtlkI0BDYt7OkJgjQCIxb2dIzCNAAAAAAAAAJEA=",
          "dtype": "f8"
         },
         "y": {
          "bdata": "p3fyUWTquT846G4JJtHCvyt3FAg3Hb6/AFDsOv4Ifr8yyoberDnUP80vvzP/q9Y/8LnfcWtWkb9y2P42o7TUP2gSwNGdwbg/QJEcp/nNrD9FiQbd7dHjP3hKEd6a9fM/7qUSrQ4u3j+pSA58IBfZP2JJCtpwCuM/UUig89qC6z/2+uCD2VjiP+DG48y3dPM/yN975YQx6T9wrP3GpZjxPwbJLaZOEvM/Cwu0j9CV8z9mi5BRmTvSP/5HIfr+evA/W1Ejn6Eu8T8NE6tu+qvyP8Jpg8ZKqOg/TO0vZMRF+D8WTuIcrk79P8dMquy+l/o/OkOc+zA69D8S/x906gz+P+qlafCEswJAvlzwLkd+/T9ip+a/fhH+P+ZAhv+P1P4/mYM9Z7AhAECIxlcUUsP8P+gy4sK+sPo/eN3QtkiR/D8ORdXhgfL7P5BrX7f9rABARHhOvLdAAEAcUExKjIEAQOJNjfv/sPw/47i9X4SGBkBoEvEDe4n8PyFhuTtB0ABAaH49ru59/D+NRYNG3w4CQGggylvTxgNAZQ5limLCBEB21hPUbHUBQKU65eaISQRAUwsnFt9YBkDARToQBQ8GQFLbh+9x5gdAhLDaHn/nCEARnY6PpNwEQNiG6FP6lAhAMVVC4KJ5BUB9K+0KpfoIQFS5EXF1+wNArcGGF8yxC0CiOg2FdaQKQHkBmSmAkglApNL8mnHxBkCdMA19dBkLQGlWvISrSAdAUTsmVbm3C0B6PWFMU5sQQFdpMNOsvgxAF6PAlYnYDECQWo2HgbwQQHoIeVgEKAxAFN3YazMLD0Bm/vXBvSYPQJ33f/52JxBAuYQWjKdhEEBaAbGHAA8RQPxunaTppwpA1g+toGc2EED9KrjOZkMSQI8Ox4kFDw9ANisLRqEGEUAuB0+dhV0RQIwj240LHRFA5mZ9ErMOEUDbVY5egZIRQEj/gFceKBBArBX0vwkjEUBBz0otQ1wUQPIXtGfuZxJAMn2HfK1wEkAhLwiuSagVQBX0GceG+xNAg46tFrbfEkBY5oFqVyETQGOotlGmSRNAENQSB1x9EkA=",
          "dtype": "f8"
         }
        }
       ],
       "layout": {
        "font": {
         "color": "#252525",
         "family": "Source Code Pro, monospace",
         "size": 12
        },
        "legend": {
         "bgcolor": "#ffffff",
         "bordercolor": "#ebebeb",
         "font": {
          "color": "#252525"
         },
         "orientation": "h",
         "x": 0.5,
         "xanchor": "center",
         "y": -0.25,
         "yanchor": "bottom"
        },
        "paper_bgcolor": "#ffffff",
        "plot_bgcolor": "#ffffff",
        "template": {
         "data": {
          "bar": [
           {
            "error_x": {
             "color": "#2a3f5f"
            },
            "error_y": {
             "color": "#2a3f5f"
            },
            "marker": {
             "line": {
              "color": "#E5ECF6",
              "width": 0.5
             },
             "pattern": {
              "fillmode": "overlay",
              "size": 10,
              "solidity": 0.2
             }
            },
            "type": "bar"
           }
          ],
          "barpolar": [
           {
            "marker": {
             "line": {
              "color": "#E5ECF6",
              "width": 0.5
             },
             "pattern": {
              "fillmode": "overlay",
              "size": 10,
              "solidity": 0.2
             }
            },
            "type": "barpolar"
           }
          ],
          "carpet": [
           {
            "aaxis": {
             "endlinecolor": "#2a3f5f",
             "gridcolor": "white",
             "linecolor": "white",
             "minorgridcolor": "white",
             "startlinecolor": "#2a3f5f"
            },
            "baxis": {
             "endlinecolor": "#2a3f5f",
             "gridcolor": "white",
             "linecolor": "white",
             "minorgridcolor": "white",
             "startlinecolor": "#2a3f5f"
            },
            "type": "carpet"
           }
          ],
          "choropleth": [
           {
            "colorbar": {
             "outlinewidth": 0,
             "ticks": ""
            },
            "type": "choropleth"
           }
          ],
          "contour": [
           {
            "colorbar": {
             "outlinewidth": 0,
             "ticks": ""
            },
            "colorscale": [
             [
              0,
              "#0d0887"
             ],
             [
              0.1111111111111111,
              "#46039f"
             ],
             [
              0.2222222222222222,
              "#7201a8"
             ],
             [
              0.3333333333333333,
              "#9c179e"
             ],
             [
              0.4444444444444444,
              "#bd3786"
             ],
             [
              0.5555555555555556,
              "#d8576b"
             ],
             [
              0.6666666666666666,
              "#ed7953"
             ],
             [
              0.7777777777777778,
              "#fb9f3a"
             ],
             [
              0.8888888888888888,
              "#fdca26"
             ],
             [
              1,
              "#f0f921"
             ]
            ],
            "type": "contour"
           }
          ],
          "contourcarpet": [
           {
            "colorbar": {
             "outlinewidth": 0,
             "ticks": ""
            },
            "type": "contourcarpet"
           }
          ],
          "heatmap": [
           {
            "colorbar": {
             "outlinewidth": 0,
             "ticks": ""
            },
            "colorscale": [
             [
              0,
              "#0d0887"
             ],
             [
              0.1111111111111111,
              "#46039f"
             ],
             [
              0.2222222222222222,
              "#7201a8"
             ],
             [
              0.3333333333333333,
              "#9c179e"
             ],
             [
              0.4444444444444444,
              "#bd3786"
             ],
             [
              0.5555555555555556,
              "#d8576b"
             ],
             [
              0.6666666666666666,
              "#ed7953"
             ],
             [
              0.7777777777777778,
              "#fb9f3a"
             ],
             [
              0.8888888888888888,
              "#fdca26"
             ],
             [
              1,
              "#f0f921"
             ]
            ],
            "type": "heatmap"
           }
          ],
          "histogram": [
           {
            "marker": {
             "pattern": {
              "fillmode": "overlay",
              "size": 10,
              "solidity": 0.2
             }
            },
            "type": "histogram"
           }
          ],
          "histogram2d": [
           {
            "colorbar": {
             "outlinewidth": 0,
             "ticks": ""
            },
            "colorscale": [
             [
              0,
              "#0d0887"
             ],
             [
              0.1111111111111111,
              "#46039f"
             ],
             [
              0.2222222222222222,
              "#7201a8"
             ],
             [
              0.3333333333333333,
              "#9c179e"
             ],
             [
              0.4444444444444444,
              "#bd3786"
             ],
             [
              0.5555555555555556,
              "#d8576b"
             ],
             [
              0.6666666666666666,
              "#ed7953"
             ],
             [
              0.7777777777777778,
              "#fb9f3a"
             ],
             [
              0.8888888888888888,
              "#fdca26"
             ],
             [
              1,
              "#f0f921"
             ]
            ],
            "type": "histogram2d"
           }
          ],
          "histogram2dcontour": [
           {
            "colorbar": {
             "outlinewidth": 0,
             "ticks": ""
            },
            "colorscale": [
             [
              0,
              "#0d0887"
             ],
             [
              0.1111111111111111,
              "#46039f"
             ],
             [
              0.2222222222222222,
              "#7201a8"
             ],
             [
              0.3333333333333333,
              "#9c179e"
             ],
             [
              0.4444444444444444,
              "#bd3786"
             ],
             [
              0.5555555555555556,
              "#d8576b"
             ],
             [
              0.6666666666666666,
              "#ed7953"
             ],
             [
              0.7777777777777778,
              "#fb9f3a"
             ],
             [
              0.8888888888888888,
              "#fdca26"
             ],
             [
              1,
              "#f0f921"
             ]
            ],
            "type": "histogram2dcontour"
           }
          ],
          "mesh3d": [
           {
            "colorbar": {
             "outlinewidth": 0,
             "ticks": ""
            },
            "type": "mesh3d"
           }
          ],
          "parcoords": [
           {
            "line": {
             "colorbar": {
              "outlinewidth": 0,
              "ticks": ""
             }
            },
            "type": "parcoords"
           }
          ],
          "pie": [
           {
            "automargin": true,
            "type": "pie"
           }
          ],
          "scatter": [
           {
            "fillpattern": {
             "fillmode": "overlay",
             "size": 10,
             "solidity": 0.2
            },
            "type": "scatter"
           }
          ],
          "scatter3d": [
           {
            "line": {
             "colorbar": {
              "outlinewidth": 0,
              "ticks": ""
             }
            },
            "marker": {
             "colorbar": {
              "outlinewidth": 0,
              "ticks": ""
             }
            },
            "type": "scatter3d"
           }
          ],
          "scattercarpet": [
           {
            "marker": {
             "colorbar": {
              "outlinewidth": 0,
              "ticks": ""
             }
            },
            "type": "scattercarpet"
           }
          ],
          "scattergeo": [
           {
            "marker": {
             "colorbar": {
              "outlinewidth": 0,
              "ticks": ""
             }
            },
            "type": "scattergeo"
           }
          ],
          "scattergl": [
           {
            "marker": {
             "colorbar": {
              "outlinewidth": 0,
              "ticks": ""
             }
            },
            "type": "scattergl"
           }
          ],
          "scattermap": [
           {
            "marker": {
             "colorbar": {
              "outlinewidth": 0,
              "ticks": ""
             }
            },
            "type": "scattermap"
           }
          ],
          "scattermapbox": [
           {
            "marker": {
             "colorbar": {
              "outlinewidth": 0,
              "ticks": ""
             }
            },
            "type": "scattermapbox"
           }
          ],
          "scatterpolar": [
           {
            "marker": {
             "colorbar": {
              "outlinewidth": 0,
              "ticks": ""
             }
            },
            "type": "scatterpolar"
           }
          ],
          "scatterpolargl": [
           {
            "marker": {
             "colorbar": {
              "outlinewidth": 0,
              "ticks": ""
             }
            },
            "type": "scatterpolargl"
           }
          ],
          "scatterternary": [
           {
            "marker": {
             "colorbar": {
              "outlinewidth": 0,
              "ticks": ""
             }
            },
            "type": "scatterternary"
           }
          ],
          "surface": [
           {
            "colorbar": {
             "outlinewidth": 0,
             "ticks": ""
            },
            "colorscale": [
             [
              0,
              "#0d0887"
             ],
             [
              0.1111111111111111,
              "#46039f"
             ],
             [
              0.2222222222222222,
              "#7201a8"
             ],
             [
              0.3333333333333333,
              "#9c179e"
             ],
             [
              0.4444444444444444,
              "#bd3786"
             ],
             [
              0.5555555555555556,
              "#d8576b"
             ],
             [
              0.6666666666666666,
              "#ed7953"
             ],
             [
              0.7777777777777778,
              "#fb9f3a"
             ],
             [
              0.8888888888888888,
              "#fdca26"
             ],
             [
              1,
              "#f0f921"
             ]
            ],
            "type": "surface"
           }
          ],
          "table": [
           {
            "cells": {
             "fill": {
              "color": "#EBF0F8"
             },
             "line": {
              "color": "white"
             }
            },
            "header": {
             "fill": {
              "color": "#C8D4E3"
             },
             "line": {
              "color": "white"
             }
            },
            "type": "table"
           }
          ]
         },
         "layout": {
          "annotationdefaults": {
           "arrowcolor": "#2a3f5f",
           "arrowhead": 0,
           "arrowwidth": 1
          },
          "autotypenumbers": "strict",
          "coloraxis": {
           "colorbar": {
            "outlinewidth": 0,
            "ticks": ""
           }
          },
          "colorscale": {
           "diverging": [
            [
             0,
             "#8e0152"
            ],
            [
             0.1,
             "#c51b7d"
            ],
            [
             0.2,
             "#de77ae"
            ],
            [
             0.3,
             "#f1b6da"
            ],
            [
             0.4,
             "#fde0ef"
            ],
            [
             0.5,
             "#f7f7f7"
            ],
            [
             0.6,
             "#e6f5d0"
            ],
            [
             0.7,
             "#b8e186"
            ],
            [
             0.8,
             "#7fbc41"
            ],
            [
             0.9,
             "#4d9221"
            ],
            [
             1,
             "#276419"
            ]
           ],
           "sequential": [
            [
             0,
             "#0d0887"
            ],
            [
             0.1111111111111111,
             "#46039f"
            ],
            [
             0.2222222222222222,
             "#7201a8"
            ],
            [
             0.3333333333333333,
             "#9c179e"
            ],
            [
             0.4444444444444444,
             "#bd3786"
            ],
            [
             0.5555555555555556,
             "#d8576b"
            ],
            [
             0.6666666666666666,
             "#ed7953"
            ],
            [
             0.7777777777777778,
             "#fb9f3a"
            ],
            [
             0.8888888888888888,
             "#fdca26"
            ],
            [
             1,
             "#f0f921"
            ]
           ],
           "sequentialminus": [
            [
             0,
             "#0d0887"
            ],
            [
             0.1111111111111111,
             "#46039f"
            ],
            [
             0.2222222222222222,
             "#7201a8"
            ],
            [
             0.3333333333333333,
             "#9c179e"
            ],
            [
             0.4444444444444444,
             "#bd3786"
            ],
            [
             0.5555555555555556,
             "#d8576b"
            ],
            [
             0.6666666666666666,
             "#ed7953"
            ],
            [
             0.7777777777777778,
             "#fb9f3a"
            ],
            [
             0.8888888888888888,
             "#fdca26"
            ],
            [
             1,
             "#f0f921"
            ]
           ]
          },
          "colorway": [
           "#636efa",
           "#EF553B",
           "#00cc96",
           "#ab63fa",
           "#FFA15A",
           "#19d3f3",
           "#FF6692",
           "#B6E880",
           "#FF97FF",
           "#FECB52"
          ],
          "font": {
           "color": "#2a3f5f"
          },
          "geo": {
           "bgcolor": "white",
           "lakecolor": "white",
           "landcolor": "#E5ECF6",
           "showlakes": true,
           "showland": true,
           "subunitcolor": "white"
          },
          "hoverlabel": {
           "align": "left"
          },
          "hovermode": "closest",
          "mapbox": {
           "style": "light"
          },
          "paper_bgcolor": "white",
          "plot_bgcolor": "#E5ECF6",
          "polar": {
           "angularaxis": {
            "gridcolor": "white",
            "linecolor": "white",
            "ticks": ""
           },
           "bgcolor": "#E5ECF6",
           "radialaxis": {
            "gridcolor": "white",
            "linecolor": "white",
            "ticks": ""
           }
          },
          "scene": {
           "xaxis": {
            "backgroundcolor": "#E5ECF6",
            "gridcolor": "white",
            "gridwidth": 2,
            "linecolor": "white",
            "showbackground": true,
            "ticks": "",
            "zerolinecolor": "white"
           },
           "yaxis": {
            "backgroundcolor": "#E5ECF6",
            "gridcolor": "white",
            "gridwidth": 2,
            "linecolor": "white",
            "showbackground": true,
            "ticks": "",
            "zerolinecolor": "white"
           },
           "zaxis": {
            "backgroundcolor": "#E5ECF6",
            "gridcolor": "white",
            "gridwidth": 2,
            "linecolor": "white",
            "showbackground": true,
            "ticks": "",
            "zerolinecolor": "white"
           }
          },
          "shapedefaults": {
           "line": {
            "color": "#2a3f5f"
           }
          },
          "ternary": {
           "aaxis": {
            "gridcolor": "white",
            "linecolor": "white",
            "ticks": ""
           },
           "baxis": {
            "gridcolor": "white",
            "linecolor": "white",
            "ticks": ""
           },
           "bgcolor": "#E5ECF6",
           "caxis": {
            "gridcolor": "white",
            "linecolor": "white",
            "ticks": ""
           }
          },
          "title": {
           "x": 0.05
          },
          "xaxis": {
           "automargin": true,
           "gridcolor": "white",
           "linecolor": "white",
           "ticks": "",
           "title": {
            "standoff": 15
           },
           "zerolinecolor": "white",
           "zerolinewidth": 2
          },
          "yaxis": {
           "automargin": true,
           "gridcolor": "white",
           "linecolor": "white",
           "ticks": "",
           "title": {
            "standoff": 15
           },
           "zerolinecolor": "white",
           "zerolinewidth": 2
          }
         }
        },
        "title": {
         "text": "Light Theme - CSS Integrated"
        },
        "xaxis": {
         "gridcolor": "#3c404a",
         "gridwidth": 0.5,
         "linecolor": "#ebebeb",
         "showgrid": true,
         "tickcolor": "#ebebeb",
         "tickfont": {
          "color": "#252525"
         },
         "title": {
          "font": {
           "color": "#252525"
          }
         },
         "zerolinecolor": "#3c404a"
        },
        "yaxis": {
         "gridcolor": "#3c404a",
         "gridwidth": 0.5,
         "linecolor": "#ebebeb",
         "showgrid": true,
         "tickcolor": "#ebebeb",
         "tickfont": {
          "color": "#252525"
         },
         "title": {
          "font": {
           "color": "#252525"
          }
         },
         "zerolinecolor": "#3c404a"
        }
       }
      }
     },
     "metadata": {},
     "output_type": "display_data"
    }
   ],
   "source": [
    "import plotly.graph_objects as go\n",
    "import numpy as np\n",
    "\n",
    "# Generate some sample data\n",
    "x = np.linspace(0, 10, 100)\n",
    "y1 = 2 * np.sin(x) + np.random.normal(0, 0.2, 100)\n",
    "y2 = 1.5 * np.cos(x) + np.random.normal(0, 0.2, 100)\n",
    "y3 = 0.5 * x + np.random.normal(0, 0.3, 100)\n",
    "\n",
    "# Create figure with LIGHT theme\n",
    "fig_light = go.Figure()\n",
    "\n",
    "# Add traces with labels\n",
    "fig_light.add_trace(go.Scatter(x=x, y=y1, mode='lines', name='Sine Wave'))\n",
    "fig_light.add_trace(go.Scatter(x=x, y=y2, mode='lines', name='Cosine Wave')) \n",
    "fig_light.add_trace(go.Scatter(x=x, y=y3, mode='lines', name='Linear Trend'))\n",
    "\n",
    "# Apply light theme\n",
    "update_layout(fig_light, 'Light Theme - CSS Integrated', 'light')\n",
    "fig_light.show()\n"
   ]
  },
  {
   "cell_type": "code",
   "execution_count": 63,
   "id": "c58c533d",
   "metadata": {},
   "outputs": [],
   "source": [
    "def plot_df(\n",
    "        df: pl.DataFrame, \n",
    "        title: str, \n",
    "        theme: str = \"light\",\n",
    "        x_col: str = \"ts\",\n",
    "        y_cols: List[str] = [\"p\"],\n",
    "        x_axis_title: str = \"Date\",\n",
    "        y_axis_title: str = \"Commits (Monthly)\",\n",
    "    ):\n",
    "    \n",
    "    fig = go.Figure()\n",
    "    for y_col in y_cols:\n",
    "        fig.add_trace(go.Scatter(x=df[x_col], y=df[y_col], mode='lines', name=y_col))\n",
    "    fig.update_layout(title=title, xaxis_title=x_axis_title, yaxis_title=y_axis_title)\n",
    "    update_layout(fig, title, theme)\n",
    "    \n",
    "    return fig"
   ]
  },
  {
   "cell_type": "code",
   "execution_count": 68,
   "id": "4c3b74dc",
   "metadata": {},
   "outputs": [
    {
     "data": {
      "application/vnd.plotly.v1+json": {
       "config": {
        "plotlyServerURL": "https://plot.ly"
       },
       "data": [
        {
         "line": {
          "color": "#8b5cf6"
         },
         "mode": "lines",
         "name": "p",
         "type": "scatter",
         "x": {
          "bdata": "AAAAAAAAAAAxb2dIzNu5PzFvZ0jM28k/ZZNNNtlk0z8xb2dIzNvZP3+lQK1fKeA/ZZNNNtlk4z9LgVq/UqDmPzFvZ0jM2+k/F1100UUX7T9/pUCtXynwP3Icx3Ecx/E/ZZNNNtlk8z9YCtT6lQL1P0uBWr9SoPY/Pvjggw8++D8xb2dIzNv5PyTm7QyJefs/F1100UUX/T8K1PqVArX+P3+lQK1fKQBA+OCDDz74AEByHMdxHMcBQOtXCtT6lQJAZZNNNtlkA0DezpCYtzMEQFgK1PqVAgVA0UUXXXTRBUBLgVq/UqAGQMS8nSExbwdAPvjggw8+CEC3MyTm7QwJQDFvZ0jM2wlAq6qqqqqqCkAk5u0MiXkLQJ4hMW9nSAxAF1100UUXDUCRmLczJOYNQArU+pUCtQ5AhA8++OCDD0B/pUCtXykQQDtDYt7OkBBA+OCDDz74EEC1fqVArV8RQHIcx3EcxxFALrrooosuEkDrVwrU+pUSQKj1KwVq/RJAZZNNNtlkE0AiMW9nSMwTQN7OkJi3MxRAm2yyySabFEBYCtT6lQIVQBWo9SsFahVA0UUXXXTRFUCO4ziO4zgWQEuBWr9SoBZACB988MEHF0DEvJ0hMW8XQIFav1Kg1hdAPvjggw8+GED7lQK1fqUYQLczJObtDBlAdNFFF110GUAxb2dIzNsZQO4MiXk7QxpAq6qqqqqqGkBnSMzbGRIbQCTm7QyJeRtA4YMPPvjgG0CeITFvZ0gcQFq/UqDWrxxAF1100UUXHUDU+pUCtX4dQJGYtzMk5h1ATTbZZJNNHkAK1PqVArUeQMdxHMdxHB9AhA8++OCDH0BArV8pUOsfQH+lQK1fKSBAXXTRRRddIEA7Q2LezpAgQBoS83aGxCBA+OCDDz74IEDXrxSo9SshQLV+pUCtXyFAk0022WSTIUByHMdxHMchQFDrVwrU+iFALrrooosuIkANiXk7Q2IiQOtXCtT6lSJAyiabbLLJIkCo9SsFav0iQIbEvJ0hMSNAZZNNNtlkI0BDYt7OkJgjQCIxb2dIzCNAAAAAAAAAJEA=",
          "dtype": "f8"
         },
         "y": {
          "bdata": "im3DZ1XPyD98WDACIpzAP1tjiEi909w/pCQf6xB36T9CCFRUm63tP4nUX/oKGvI/dzQEt3AU7D94TLmBktD0P3JMMaNNOfs/xx5mPRhs9j8KUzxqkAH/P6ksvkAghPs/s6vZPN9k+z8SN5n6XPL+PxrcVuDY//s/ujH3AEMy/T9uaNcf//cAQHl7FgWw8vs/rFcK+nFS/D8qg99u7xj5P91hUHCj4/w/4uu7Yscl9z9JD/6PssL5P2Q7YYhwKvw/ZTfQA+PK9z8Dl0RzCtjyP8ybtbdv0/E/mCeWYg2Y7D97JsAqJ8rpP3cMQjqlsdk/rqsoFubAyj8UaeJW5CC8P7SM+VzEHq+/ohQUB03T27+2QjnavGrmv61UkLpCDum/BpV9YKfm8b+INvQGkV7tv5tkJWbGzvG/GkaPNDp09r9fguorPw72v2kf7L/2Vf6/ic+iUm3q+r8nScZ23tr5v3tMDCPepADARZRt4qV1/79Y+Fdj98cAwPAvqrBKlALA7nLPTpMX+r9gT/80Me79vwEZE/qm5vy/DEl/q2gzAMAFJAgv1QUAwGgbkqqnMPW/WDDF3YFn+7+A3v0vMMnpvxeqPVSWBPe/hAKuRMxe8b/HEpfiPqXrv5kD16CTqeO/Oj4Fk7fC4L8AvU3h26njv7LHAiT4q8G/Ay8+8cp7y7+raRd6iOnUP0b1aLJSPeg/IRR+K1UI7T+6J8HHXnjmPyYFKnaN8vM/KZHmK84p8T8ScHJaDWX2P88nimWSm/s/qB/VCBc0+z8CaebjvDAAQCyf2Y/ipQBAPKC+DI84/j8utmewMev7PwtnRqB2VQFAzMT1aGIrAUBTCtIDVLcAQNEZzENgzf4/nh8FdnjFAEBYSgK66kMAQN3hLx1yD/s/uGd6GlEN+j9s1krt74v6P+4oBUquYvY//v5L1ZqL9j/h36pMQn7sP9y82KdYPOw/sKWICyAd5z/Z7N14WBDcP2BEed4nqJE/Udc7iw6wzT+wl1slE5rFv14Mj5+UktO/U6kDxkZb17+h6sZVPg7mvy3/LMGi0+u/Pk0uZSPT8r8=",
          "dtype": "f8"
         }
        }
       ],
       "layout": {
        "font": {
         "color": "#fafafa",
         "family": "Source Code Pro, monospace",
         "size": 12
        },
        "legend": {
         "bgcolor": "#343434",
         "bordercolor": "#404040",
         "font": {
          "color": "#fafafa"
         },
         "orientation": "h",
         "x": 0.5,
         "xanchor": "center",
         "y": -0.25,
         "yanchor": "bottom"
        },
        "paper_bgcolor": "#252525",
        "plot_bgcolor": "#343434",
        "template": {
         "data": {
          "bar": [
           {
            "error_x": {
             "color": "#2a3f5f"
            },
            "error_y": {
             "color": "#2a3f5f"
            },
            "marker": {
             "line": {
              "color": "#E5ECF6",
              "width": 0.5
             },
             "pattern": {
              "fillmode": "overlay",
              "size": 10,
              "solidity": 0.2
             }
            },
            "type": "bar"
           }
          ],
          "barpolar": [
           {
            "marker": {
             "line": {
              "color": "#E5ECF6",
              "width": 0.5
             },
             "pattern": {
              "fillmode": "overlay",
              "size": 10,
              "solidity": 0.2
             }
            },
            "type": "barpolar"
           }
          ],
          "carpet": [
           {
            "aaxis": {
             "endlinecolor": "#2a3f5f",
             "gridcolor": "white",
             "linecolor": "white",
             "minorgridcolor": "white",
             "startlinecolor": "#2a3f5f"
            },
            "baxis": {
             "endlinecolor": "#2a3f5f",
             "gridcolor": "white",
             "linecolor": "white",
             "minorgridcolor": "white",
             "startlinecolor": "#2a3f5f"
            },
            "type": "carpet"
           }
          ],
          "choropleth": [
           {
            "colorbar": {
             "outlinewidth": 0,
             "ticks": ""
            },
            "type": "choropleth"
           }
          ],
          "contour": [
           {
            "colorbar": {
             "outlinewidth": 0,
             "ticks": ""
            },
            "colorscale": [
             [
              0,
              "#0d0887"
             ],
             [
              0.1111111111111111,
              "#46039f"
             ],
             [
              0.2222222222222222,
              "#7201a8"
             ],
             [
              0.3333333333333333,
              "#9c179e"
             ],
             [
              0.4444444444444444,
              "#bd3786"
             ],
             [
              0.5555555555555556,
              "#d8576b"
             ],
             [
              0.6666666666666666,
              "#ed7953"
             ],
             [
              0.7777777777777778,
              "#fb9f3a"
             ],
             [
              0.8888888888888888,
              "#fdca26"
             ],
             [
              1,
              "#f0f921"
             ]
            ],
            "type": "contour"
           }
          ],
          "contourcarpet": [
           {
            "colorbar": {
             "outlinewidth": 0,
             "ticks": ""
            },
            "type": "contourcarpet"
           }
          ],
          "heatmap": [
           {
            "colorbar": {
             "outlinewidth": 0,
             "ticks": ""
            },
            "colorscale": [
             [
              0,
              "#0d0887"
             ],
             [
              0.1111111111111111,
              "#46039f"
             ],
             [
              0.2222222222222222,
              "#7201a8"
             ],
             [
              0.3333333333333333,
              "#9c179e"
             ],
             [
              0.4444444444444444,
              "#bd3786"
             ],
             [
              0.5555555555555556,
              "#d8576b"
             ],
             [
              0.6666666666666666,
              "#ed7953"
             ],
             [
              0.7777777777777778,
              "#fb9f3a"
             ],
             [
              0.8888888888888888,
              "#fdca26"
             ],
             [
              1,
              "#f0f921"
             ]
            ],
            "type": "heatmap"
           }
          ],
          "histogram": [
           {
            "marker": {
             "pattern": {
              "fillmode": "overlay",
              "size": 10,
              "solidity": 0.2
             }
            },
            "type": "histogram"
           }
          ],
          "histogram2d": [
           {
            "colorbar": {
             "outlinewidth": 0,
             "ticks": ""
            },
            "colorscale": [
             [
              0,
              "#0d0887"
             ],
             [
              0.1111111111111111,
              "#46039f"
             ],
             [
              0.2222222222222222,
              "#7201a8"
             ],
             [
              0.3333333333333333,
              "#9c179e"
             ],
             [
              0.4444444444444444,
              "#bd3786"
             ],
             [
              0.5555555555555556,
              "#d8576b"
             ],
             [
              0.6666666666666666,
              "#ed7953"
             ],
             [
              0.7777777777777778,
              "#fb9f3a"
             ],
             [
              0.8888888888888888,
              "#fdca26"
             ],
             [
              1,
              "#f0f921"
             ]
            ],
            "type": "histogram2d"
           }
          ],
          "histogram2dcontour": [
           {
            "colorbar": {
             "outlinewidth": 0,
             "ticks": ""
            },
            "colorscale": [
             [
              0,
              "#0d0887"
             ],
             [
              0.1111111111111111,
              "#46039f"
             ],
             [
              0.2222222222222222,
              "#7201a8"
             ],
             [
              0.3333333333333333,
              "#9c179e"
             ],
             [
              0.4444444444444444,
              "#bd3786"
             ],
             [
              0.5555555555555556,
              "#d8576b"
             ],
             [
              0.6666666666666666,
              "#ed7953"
             ],
             [
              0.7777777777777778,
              "#fb9f3a"
             ],
             [
              0.8888888888888888,
              "#fdca26"
             ],
             [
              1,
              "#f0f921"
             ]
            ],
            "type": "histogram2dcontour"
           }
          ],
          "mesh3d": [
           {
            "colorbar": {
             "outlinewidth": 0,
             "ticks": ""
            },
            "type": "mesh3d"
           }
          ],
          "parcoords": [
           {
            "line": {
             "colorbar": {
              "outlinewidth": 0,
              "ticks": ""
             }
            },
            "type": "parcoords"
           }
          ],
          "pie": [
           {
            "automargin": true,
            "type": "pie"
           }
          ],
          "scatter": [
           {
            "fillpattern": {
             "fillmode": "overlay",
             "size": 10,
             "solidity": 0.2
            },
            "type": "scatter"
           }
          ],
          "scatter3d": [
           {
            "line": {
             "colorbar": {
              "outlinewidth": 0,
              "ticks": ""
             }
            },
            "marker": {
             "colorbar": {
              "outlinewidth": 0,
              "ticks": ""
             }
            },
            "type": "scatter3d"
           }
          ],
          "scattercarpet": [
           {
            "marker": {
             "colorbar": {
              "outlinewidth": 0,
              "ticks": ""
             }
            },
            "type": "scattercarpet"
           }
          ],
          "scattergeo": [
           {
            "marker": {
             "colorbar": {
              "outlinewidth": 0,
              "ticks": ""
             }
            },
            "type": "scattergeo"
           }
          ],
          "scattergl": [
           {
            "marker": {
             "colorbar": {
              "outlinewidth": 0,
              "ticks": ""
             }
            },
            "type": "scattergl"
           }
          ],
          "scattermap": [
           {
            "marker": {
             "colorbar": {
              "outlinewidth": 0,
              "ticks": ""
             }
            },
            "type": "scattermap"
           }
          ],
          "scattermapbox": [
           {
            "marker": {
             "colorbar": {
              "outlinewidth": 0,
              "ticks": ""
             }
            },
            "type": "scattermapbox"
           }
          ],
          "scatterpolar": [
           {
            "marker": {
             "colorbar": {
              "outlinewidth": 0,
              "ticks": ""
             }
            },
            "type": "scatterpolar"
           }
          ],
          "scatterpolargl": [
           {
            "marker": {
             "colorbar": {
              "outlinewidth": 0,
              "ticks": ""
             }
            },
            "type": "scatterpolargl"
           }
          ],
          "scatterternary": [
           {
            "marker": {
             "colorbar": {
              "outlinewidth": 0,
              "ticks": ""
             }
            },
            "type": "scatterternary"
           }
          ],
          "surface": [
           {
            "colorbar": {
             "outlinewidth": 0,
             "ticks": ""
            },
            "colorscale": [
             [
              0,
              "#0d0887"
             ],
             [
              0.1111111111111111,
              "#46039f"
             ],
             [
              0.2222222222222222,
              "#7201a8"
             ],
             [
              0.3333333333333333,
              "#9c179e"
             ],
             [
              0.4444444444444444,
              "#bd3786"
             ],
             [
              0.5555555555555556,
              "#d8576b"
             ],
             [
              0.6666666666666666,
              "#ed7953"
             ],
             [
              0.7777777777777778,
              "#fb9f3a"
             ],
             [
              0.8888888888888888,
              "#fdca26"
             ],
             [
              1,
              "#f0f921"
             ]
            ],
            "type": "surface"
           }
          ],
          "table": [
           {
            "cells": {
             "fill": {
              "color": "#EBF0F8"
             },
             "line": {
              "color": "white"
             }
            },
            "header": {
             "fill": {
              "color": "#C8D4E3"
             },
             "line": {
              "color": "white"
             }
            },
            "type": "table"
           }
          ]
         },
         "layout": {
          "annotationdefaults": {
           "arrowcolor": "#2a3f5f",
           "arrowhead": 0,
           "arrowwidth": 1
          },
          "autotypenumbers": "strict",
          "coloraxis": {
           "colorbar": {
            "outlinewidth": 0,
            "ticks": ""
           }
          },
          "colorscale": {
           "diverging": [
            [
             0,
             "#8e0152"
            ],
            [
             0.1,
             "#c51b7d"
            ],
            [
             0.2,
             "#de77ae"
            ],
            [
             0.3,
             "#f1b6da"
            ],
            [
             0.4,
             "#fde0ef"
            ],
            [
             0.5,
             "#f7f7f7"
            ],
            [
             0.6,
             "#e6f5d0"
            ],
            [
             0.7,
             "#b8e186"
            ],
            [
             0.8,
             "#7fbc41"
            ],
            [
             0.9,
             "#4d9221"
            ],
            [
             1,
             "#276419"
            ]
           ],
           "sequential": [
            [
             0,
             "#0d0887"
            ],
            [
             0.1111111111111111,
             "#46039f"
            ],
            [
             0.2222222222222222,
             "#7201a8"
            ],
            [
             0.3333333333333333,
             "#9c179e"
            ],
            [
             0.4444444444444444,
             "#bd3786"
            ],
            [
             0.5555555555555556,
             "#d8576b"
            ],
            [
             0.6666666666666666,
             "#ed7953"
            ],
            [
             0.7777777777777778,
             "#fb9f3a"
            ],
            [
             0.8888888888888888,
             "#fdca26"
            ],
            [
             1,
             "#f0f921"
            ]
           ],
           "sequentialminus": [
            [
             0,
             "#0d0887"
            ],
            [
             0.1111111111111111,
             "#46039f"
            ],
            [
             0.2222222222222222,
             "#7201a8"
            ],
            [
             0.3333333333333333,
             "#9c179e"
            ],
            [
             0.4444444444444444,
             "#bd3786"
            ],
            [
             0.5555555555555556,
             "#d8576b"
            ],
            [
             0.6666666666666666,
             "#ed7953"
            ],
            [
             0.7777777777777778,
             "#fb9f3a"
            ],
            [
             0.8888888888888888,
             "#fdca26"
            ],
            [
             1,
             "#f0f921"
            ]
           ]
          },
          "colorway": [
           "#636efa",
           "#EF553B",
           "#00cc96",
           "#ab63fa",
           "#FFA15A",
           "#19d3f3",
           "#FF6692",
           "#B6E880",
           "#FF97FF",
           "#FECB52"
          ],
          "font": {
           "color": "#2a3f5f"
          },
          "geo": {
           "bgcolor": "white",
           "lakecolor": "white",
           "landcolor": "#E5ECF6",
           "showlakes": true,
           "showland": true,
           "subunitcolor": "white"
          },
          "hoverlabel": {
           "align": "left"
          },
          "hovermode": "closest",
          "mapbox": {
           "style": "light"
          },
          "paper_bgcolor": "white",
          "plot_bgcolor": "#E5ECF6",
          "polar": {
           "angularaxis": {
            "gridcolor": "white",
            "linecolor": "white",
            "ticks": ""
           },
           "bgcolor": "#E5ECF6",
           "radialaxis": {
            "gridcolor": "white",
            "linecolor": "white",
            "ticks": ""
           }
          },
          "scene": {
           "xaxis": {
            "backgroundcolor": "#E5ECF6",
            "gridcolor": "white",
            "gridwidth": 2,
            "linecolor": "white",
            "showbackground": true,
            "ticks": "",
            "zerolinecolor": "white"
           },
           "yaxis": {
            "backgroundcolor": "#E5ECF6",
            "gridcolor": "white",
            "gridwidth": 2,
            "linecolor": "white",
            "showbackground": true,
            "ticks": "",
            "zerolinecolor": "white"
           },
           "zaxis": {
            "backgroundcolor": "#E5ECF6",
            "gridcolor": "white",
            "gridwidth": 2,
            "linecolor": "white",
            "showbackground": true,
            "ticks": "",
            "zerolinecolor": "white"
           }
          },
          "shapedefaults": {
           "line": {
            "color": "#2a3f5f"
           }
          },
          "ternary": {
           "aaxis": {
            "gridcolor": "white",
            "linecolor": "white",
            "ticks": ""
           },
           "baxis": {
            "gridcolor": "white",
            "linecolor": "white",
            "ticks": ""
           },
           "bgcolor": "#E5ECF6",
           "caxis": {
            "gridcolor": "white",
            "linecolor": "white",
            "ticks": ""
           }
          },
          "title": {
           "x": 0.05
          },
          "xaxis": {
           "automargin": true,
           "gridcolor": "white",
           "linecolor": "white",
           "ticks": "",
           "title": {
            "standoff": 15
           },
           "zerolinecolor": "white",
           "zerolinewidth": 2
          },
          "yaxis": {
           "automargin": true,
           "gridcolor": "white",
           "linecolor": "white",
           "ticks": "",
           "title": {
            "standoff": 15
           },
           "zerolinecolor": "white",
           "zerolinewidth": 2
          }
         }
        },
        "title": {
         "text": "Commits by Month"
        },
        "xaxis": {
         "gridcolor": "#3c404a",
         "gridwidth": 0.5,
         "linecolor": "#404040",
         "showgrid": true,
         "tickcolor": "#404040",
         "tickfont": {
          "color": "#fafafa"
         },
         "title": {
          "font": {
           "color": "#fafafa"
          },
          "text": "Date"
         },
         "zerolinecolor": "#3c404a"
        },
        "yaxis": {
         "gridcolor": "#3c404a",
         "gridwidth": 0.5,
         "linecolor": "#404040",
         "showgrid": true,
         "tickcolor": "#404040",
         "tickfont": {
          "color": "#fafafa"
         },
         "title": {
          "font": {
           "color": "#fafafa"
          },
          "text": "Commits (Monthly)"
         },
         "zerolinecolor": "#3c404a"
        }
       }
      }
     },
     "metadata": {},
     "output_type": "display_data"
    },
    {
     "name": "stdout",
     "output_type": "stream",
     "text": [
      "None\n"
     ]
    }
   ],
   "source": [
    "fig = plot_df(\n",
    "        df = df, \n",
    "        title = \"Commits by Month\", \n",
    "        theme = \"dark\", \n",
    "        x_col = \"ts\", \n",
    "        y_cols = [\"p\"], \n",
    "        x_axis_title = \"Date\", \n",
    "        y_axis_title = \"Commits (Monthly)\"\n",
    "    ).show()\n",
    "print(fig)"
   ]
  },
  {
   "cell_type": "markdown",
   "id": "6413a3e0",
   "metadata": {},
   "source": []
  },
  {
   "cell_type": "code",
   "execution_count": 41,
   "id": "36f26dd4",
   "metadata": {},
   "outputs": [
    {
     "name": "stdout",
     "output_type": "stream",
     "text": [
      "📊 Bar Chart with CSS Colors:\n"
     ]
    },
    {
     "data": {
      "application/vnd.plotly.v1+json": {
       "config": {
        "plotlyServerURL": "https://plot.ly"
       },
       "data": [
        {
         "marker": {
          "color": "#d97706"
         },
         "type": "bar",
         "x": [
          "Category A",
          "Category B",
          "Category C",
          "Category D",
          "Category E"
         ],
         "y": [
          23,
          45,
          56,
          78,
          32
         ]
        }
       ],
       "layout": {
        "font": {
         "color": "#252525",
         "family": "Source Code Pro, monospace",
         "size": 12
        },
        "legend": {
         "bgcolor": "#ffffff",
         "bordercolor": "#ebebeb",
         "font": {
          "color": "#252525"
         }
        },
        "paper_bgcolor": "#ffffff",
        "plot_bgcolor": "#ffffff",
        "template": {
         "data": {
          "bar": [
           {
            "error_x": {
             "color": "#2a3f5f"
            },
            "error_y": {
             "color": "#2a3f5f"
            },
            "marker": {
             "line": {
              "color": "#E5ECF6",
              "width": 0.5
             },
             "pattern": {
              "fillmode": "overlay",
              "size": 10,
              "solidity": 0.2
             }
            },
            "type": "bar"
           }
          ],
          "barpolar": [
           {
            "marker": {
             "line": {
              "color": "#E5ECF6",
              "width": 0.5
             },
             "pattern": {
              "fillmode": "overlay",
              "size": 10,
              "solidity": 0.2
             }
            },
            "type": "barpolar"
           }
          ],
          "carpet": [
           {
            "aaxis": {
             "endlinecolor": "#2a3f5f",
             "gridcolor": "white",
             "linecolor": "white",
             "minorgridcolor": "white",
             "startlinecolor": "#2a3f5f"
            },
            "baxis": {
             "endlinecolor": "#2a3f5f",
             "gridcolor": "white",
             "linecolor": "white",
             "minorgridcolor": "white",
             "startlinecolor": "#2a3f5f"
            },
            "type": "carpet"
           }
          ],
          "choropleth": [
           {
            "colorbar": {
             "outlinewidth": 0,
             "ticks": ""
            },
            "type": "choropleth"
           }
          ],
          "contour": [
           {
            "colorbar": {
             "outlinewidth": 0,
             "ticks": ""
            },
            "colorscale": [
             [
              0,
              "#0d0887"
             ],
             [
              0.1111111111111111,
              "#46039f"
             ],
             [
              0.2222222222222222,
              "#7201a8"
             ],
             [
              0.3333333333333333,
              "#9c179e"
             ],
             [
              0.4444444444444444,
              "#bd3786"
             ],
             [
              0.5555555555555556,
              "#d8576b"
             ],
             [
              0.6666666666666666,
              "#ed7953"
             ],
             [
              0.7777777777777778,
              "#fb9f3a"
             ],
             [
              0.8888888888888888,
              "#fdca26"
             ],
             [
              1,
              "#f0f921"
             ]
            ],
            "type": "contour"
           }
          ],
          "contourcarpet": [
           {
            "colorbar": {
             "outlinewidth": 0,
             "ticks": ""
            },
            "type": "contourcarpet"
           }
          ],
          "heatmap": [
           {
            "colorbar": {
             "outlinewidth": 0,
             "ticks": ""
            },
            "colorscale": [
             [
              0,
              "#0d0887"
             ],
             [
              0.1111111111111111,
              "#46039f"
             ],
             [
              0.2222222222222222,
              "#7201a8"
             ],
             [
              0.3333333333333333,
              "#9c179e"
             ],
             [
              0.4444444444444444,
              "#bd3786"
             ],
             [
              0.5555555555555556,
              "#d8576b"
             ],
             [
              0.6666666666666666,
              "#ed7953"
             ],
             [
              0.7777777777777778,
              "#fb9f3a"
             ],
             [
              0.8888888888888888,
              "#fdca26"
             ],
             [
              1,
              "#f0f921"
             ]
            ],
            "type": "heatmap"
           }
          ],
          "histogram": [
           {
            "marker": {
             "pattern": {
              "fillmode": "overlay",
              "size": 10,
              "solidity": 0.2
             }
            },
            "type": "histogram"
           }
          ],
          "histogram2d": [
           {
            "colorbar": {
             "outlinewidth": 0,
             "ticks": ""
            },
            "colorscale": [
             [
              0,
              "#0d0887"
             ],
             [
              0.1111111111111111,
              "#46039f"
             ],
             [
              0.2222222222222222,
              "#7201a8"
             ],
             [
              0.3333333333333333,
              "#9c179e"
             ],
             [
              0.4444444444444444,
              "#bd3786"
             ],
             [
              0.5555555555555556,
              "#d8576b"
             ],
             [
              0.6666666666666666,
              "#ed7953"
             ],
             [
              0.7777777777777778,
              "#fb9f3a"
             ],
             [
              0.8888888888888888,
              "#fdca26"
             ],
             [
              1,
              "#f0f921"
             ]
            ],
            "type": "histogram2d"
           }
          ],
          "histogram2dcontour": [
           {
            "colorbar": {
             "outlinewidth": 0,
             "ticks": ""
            },
            "colorscale": [
             [
              0,
              "#0d0887"
             ],
             [
              0.1111111111111111,
              "#46039f"
             ],
             [
              0.2222222222222222,
              "#7201a8"
             ],
             [
              0.3333333333333333,
              "#9c179e"
             ],
             [
              0.4444444444444444,
              "#bd3786"
             ],
             [
              0.5555555555555556,
              "#d8576b"
             ],
             [
              0.6666666666666666,
              "#ed7953"
             ],
             [
              0.7777777777777778,
              "#fb9f3a"
             ],
             [
              0.8888888888888888,
              "#fdca26"
             ],
             [
              1,
              "#f0f921"
             ]
            ],
            "type": "histogram2dcontour"
           }
          ],
          "mesh3d": [
           {
            "colorbar": {
             "outlinewidth": 0,
             "ticks": ""
            },
            "type": "mesh3d"
           }
          ],
          "parcoords": [
           {
            "line": {
             "colorbar": {
              "outlinewidth": 0,
              "ticks": ""
             }
            },
            "type": "parcoords"
           }
          ],
          "pie": [
           {
            "automargin": true,
            "type": "pie"
           }
          ],
          "scatter": [
           {
            "fillpattern": {
             "fillmode": "overlay",
             "size": 10,
             "solidity": 0.2
            },
            "type": "scatter"
           }
          ],
          "scatter3d": [
           {
            "line": {
             "colorbar": {
              "outlinewidth": 0,
              "ticks": ""
             }
            },
            "marker": {
             "colorbar": {
              "outlinewidth": 0,
              "ticks": ""
             }
            },
            "type": "scatter3d"
           }
          ],
          "scattercarpet": [
           {
            "marker": {
             "colorbar": {
              "outlinewidth": 0,
              "ticks": ""
             }
            },
            "type": "scattercarpet"
           }
          ],
          "scattergeo": [
           {
            "marker": {
             "colorbar": {
              "outlinewidth": 0,
              "ticks": ""
             }
            },
            "type": "scattergeo"
           }
          ],
          "scattergl": [
           {
            "marker": {
             "colorbar": {
              "outlinewidth": 0,
              "ticks": ""
             }
            },
            "type": "scattergl"
           }
          ],
          "scattermap": [
           {
            "marker": {
             "colorbar": {
              "outlinewidth": 0,
              "ticks": ""
             }
            },
            "type": "scattermap"
           }
          ],
          "scattermapbox": [
           {
            "marker": {
             "colorbar": {
              "outlinewidth": 0,
              "ticks": ""
             }
            },
            "type": "scattermapbox"
           }
          ],
          "scatterpolar": [
           {
            "marker": {
             "colorbar": {
              "outlinewidth": 0,
              "ticks": ""
             }
            },
            "type": "scatterpolar"
           }
          ],
          "scatterpolargl": [
           {
            "marker": {
             "colorbar": {
              "outlinewidth": 0,
              "ticks": ""
             }
            },
            "type": "scatterpolargl"
           }
          ],
          "scatterternary": [
           {
            "marker": {
             "colorbar": {
              "outlinewidth": 0,
              "ticks": ""
             }
            },
            "type": "scatterternary"
           }
          ],
          "surface": [
           {
            "colorbar": {
             "outlinewidth": 0,
             "ticks": ""
            },
            "colorscale": [
             [
              0,
              "#0d0887"
             ],
             [
              0.1111111111111111,
              "#46039f"
             ],
             [
              0.2222222222222222,
              "#7201a8"
             ],
             [
              0.3333333333333333,
              "#9c179e"
             ],
             [
              0.4444444444444444,
              "#bd3786"
             ],
             [
              0.5555555555555556,
              "#d8576b"
             ],
             [
              0.6666666666666666,
              "#ed7953"
             ],
             [
              0.7777777777777778,
              "#fb9f3a"
             ],
             [
              0.8888888888888888,
              "#fdca26"
             ],
             [
              1,
              "#f0f921"
             ]
            ],
            "type": "surface"
           }
          ],
          "table": [
           {
            "cells": {
             "fill": {
              "color": "#EBF0F8"
             },
             "line": {
              "color": "white"
             }
            },
            "header": {
             "fill": {
              "color": "#C8D4E3"
             },
             "line": {
              "color": "white"
             }
            },
            "type": "table"
           }
          ]
         },
         "layout": {
          "annotationdefaults": {
           "arrowcolor": "#2a3f5f",
           "arrowhead": 0,
           "arrowwidth": 1
          },
          "autotypenumbers": "strict",
          "coloraxis": {
           "colorbar": {
            "outlinewidth": 0,
            "ticks": ""
           }
          },
          "colorscale": {
           "diverging": [
            [
             0,
             "#8e0152"
            ],
            [
             0.1,
             "#c51b7d"
            ],
            [
             0.2,
             "#de77ae"
            ],
            [
             0.3,
             "#f1b6da"
            ],
            [
             0.4,
             "#fde0ef"
            ],
            [
             0.5,
             "#f7f7f7"
            ],
            [
             0.6,
             "#e6f5d0"
            ],
            [
             0.7,
             "#b8e186"
            ],
            [
             0.8,
             "#7fbc41"
            ],
            [
             0.9,
             "#4d9221"
            ],
            [
             1,
             "#276419"
            ]
           ],
           "sequential": [
            [
             0,
             "#0d0887"
            ],
            [
             0.1111111111111111,
             "#46039f"
            ],
            [
             0.2222222222222222,
             "#7201a8"
            ],
            [
             0.3333333333333333,
             "#9c179e"
            ],
            [
             0.4444444444444444,
             "#bd3786"
            ],
            [
             0.5555555555555556,
             "#d8576b"
            ],
            [
             0.6666666666666666,
             "#ed7953"
            ],
            [
             0.7777777777777778,
             "#fb9f3a"
            ],
            [
             0.8888888888888888,
             "#fdca26"
            ],
            [
             1,
             "#f0f921"
            ]
           ],
           "sequentialminus": [
            [
             0,
             "#0d0887"
            ],
            [
             0.1111111111111111,
             "#46039f"
            ],
            [
             0.2222222222222222,
             "#7201a8"
            ],
            [
             0.3333333333333333,
             "#9c179e"
            ],
            [
             0.4444444444444444,
             "#bd3786"
            ],
            [
             0.5555555555555556,
             "#d8576b"
            ],
            [
             0.6666666666666666,
             "#ed7953"
            ],
            [
             0.7777777777777778,
             "#fb9f3a"
            ],
            [
             0.8888888888888888,
             "#fdca26"
            ],
            [
             1,
             "#f0f921"
            ]
           ]
          },
          "colorway": [
           "#636efa",
           "#EF553B",
           "#00cc96",
           "#ab63fa",
           "#FFA15A",
           "#19d3f3",
           "#FF6692",
           "#B6E880",
           "#FF97FF",
           "#FECB52"
          ],
          "font": {
           "color": "#2a3f5f"
          },
          "geo": {
           "bgcolor": "white",
           "lakecolor": "white",
           "landcolor": "#E5ECF6",
           "showlakes": true,
           "showland": true,
           "subunitcolor": "white"
          },
          "hoverlabel": {
           "align": "left"
          },
          "hovermode": "closest",
          "mapbox": {
           "style": "light"
          },
          "paper_bgcolor": "white",
          "plot_bgcolor": "#E5ECF6",
          "polar": {
           "angularaxis": {
            "gridcolor": "white",
            "linecolor": "white",
            "ticks": ""
           },
           "bgcolor": "#E5ECF6",
           "radialaxis": {
            "gridcolor": "white",
            "linecolor": "white",
            "ticks": ""
           }
          },
          "scene": {
           "xaxis": {
            "backgroundcolor": "#E5ECF6",
            "gridcolor": "white",
            "gridwidth": 2,
            "linecolor": "white",
            "showbackground": true,
            "ticks": "",
            "zerolinecolor": "white"
           },
           "yaxis": {
            "backgroundcolor": "#E5ECF6",
            "gridcolor": "white",
            "gridwidth": 2,
            "linecolor": "white",
            "showbackground": true,
            "ticks": "",
            "zerolinecolor": "white"
           },
           "zaxis": {
            "backgroundcolor": "#E5ECF6",
            "gridcolor": "white",
            "gridwidth": 2,
            "linecolor": "white",
            "showbackground": true,
            "ticks": "",
            "zerolinecolor": "white"
           }
          },
          "shapedefaults": {
           "line": {
            "color": "#2a3f5f"
           }
          },
          "ternary": {
           "aaxis": {
            "gridcolor": "white",
            "linecolor": "white",
            "ticks": ""
           },
           "baxis": {
            "gridcolor": "white",
            "linecolor": "white",
            "ticks": ""
           },
           "bgcolor": "#E5ECF6",
           "caxis": {
            "gridcolor": "white",
            "linecolor": "white",
            "ticks": ""
           }
          },
          "title": {
           "x": 0.05
          },
          "xaxis": {
           "automargin": true,
           "gridcolor": "white",
           "linecolor": "white",
           "ticks": "",
           "title": {
            "standoff": 15
           },
           "zerolinecolor": "white",
           "zerolinewidth": 2
          },
          "yaxis": {
           "automargin": true,
           "gridcolor": "white",
           "linecolor": "white",
           "ticks": "",
           "title": {
            "standoff": 15
           },
           "zerolinecolor": "white",
           "zerolinewidth": 2
          }
         }
        },
        "title": {
         "text": "Bar Chart - CSS Colors"
        },
        "xaxis": {
         "gridcolor": "#ebebeb",
         "linecolor": "#ebebeb",
         "tickcolor": "#ebebeb",
         "tickfont": {
          "color": "#252525"
         },
         "title": {
          "font": {
           "color": "#252525"
          }
         }
        },
        "yaxis": {
         "gridcolor": "#ebebeb",
         "linecolor": "#ebebeb",
         "tickcolor": "#ebebeb",
         "tickfont": {
          "color": "#252525"
         },
         "title": {
          "font": {
           "color": "#252525"
          }
         }
        }
       }
      }
     },
     "metadata": {},
     "output_type": "display_data"
    },
    {
     "name": "stdout",
     "output_type": "stream",
     "text": [
      "🔵 Scatter Plot with Dark Theme:\n"
     ]
    },
    {
     "data": {
      "application/vnd.plotly.v1+json": {
       "config": {
        "plotlyServerURL": "https://plot.ly"
       },
       "data": [
        {
         "line": {
          "color": "#8b5cf6"
         },
         "marker": {
          "color": "#8b5cf6",
          "opacity": 0.7,
          "size": 8
         },
         "mode": "markers",
         "name": "Group 1",
         "type": "scatter",
         "x": {
          "bdata": "fEXpBC0k6b+8Qla/VwTFv1gTvusJdsy/3Zgzow3T4j9wQ3PZryzov/a4RY4TFck/R2o3mSdF7b89EiA4tQLRP8OHusjTusS//LrPTZkdsL/QT4Jp4UTjv1lWZI5+Utm/oE5yLrN02D9zYeeBUYLcv8j9rkbXPpm/bBx6CZ/tyD8tdIAnWSrJP3awRFTw4Ng/umMxgjGU4T/rPsZqcRrCP0BtacFAu9Q/Xkkmbhsjr7+Lj/t+JtziP9+ef2CzbNM/NUrqCZaA0b+EiskVwvXUv8V1K6isJOS/MBowDoB38L8G/+4IlPHSv9j+72bGxtQ/GYhinz0Pv79m7jVW0deZv4xjbNtua+Q/aaPj2ZCp6z8ZpZ8/XPbTv5/Rz+LYIrC/imk8d1tqzb8Z4FKBTU/kv6z+hhXyRdS/sf1vW3tn1r9mn5jjB9PRP4GbQXgGX8w//DRF4U9X5z8X7oabKLbvv5Urdws678E/wdivdIxY3D/Za3s6I33ZvxJYrn0iN7w/telpJT3Yu79iFutZFU7bPw==",
          "dtype": "f8"
         },
         "y": {
          "bdata": "IewYo7AH2j+giNtAMdvWP+03MXPBZbW/bSj6qK5b1T+8p4E2sCHKP12cHv3AmvE/w3KT6Mg1x7+A9wstj0K0P3rnPgd7DOq/UoAEp855478a6q2f9pTlP6bgVUu8SbQ/yI4R2N+OyD9CTyCnhI/ZPyavKyta6+c/VgECEQdR5D/CguWNs+zFv2ae6Decdc4/s812NRHm4z96h5nc3crDv2/oK8b4UdG/0jh5YhqUw7/gLZSrcU3YPzDXee2PgeO/rNQ+0fzd5b+9toU0VavSv35JUX87kZI/+1+rIX1ywj8z/bxcCB7UP3OJaEiA6sS/yE2VfBeQlL+pVmnrAueyP35zBsA1t9A/m3tjU2O64z+ROGJus36xP/KbvWFx0+s/G2l7VPn92T/HVK11QzjZP9nNycdWXtg/MM6nX+2t1z+sfGwHLyLGv6wHWaUB85Y/hyeVkbOJ579V4Zpp0P/GP1jnuXU9Vrm/Zej5DjMq4r9nSxqInhy6P4NG/Oy8F9w/9H7waKn86j8IDzHY41LSPw==",
          "dtype": "f8"
         }
        },
        {
         "line": {
          "color": "#06b6d4"
         },
         "marker": {
          "color": "#06b6d4",
          "opacity": 0.7,
          "size": 8
         },
         "mode": "markers",
         "name": "Group 2",
         "type": "scatter",
         "x": {
          "bdata": "TFBGOgmg8z8MQgK8T874P/Zg7osK1vE/FCklQ2TH9D9R/mZWsWz0P55DRouwz+M/AMwLZMCl5j/yqOgfoCLVP3AteNeuZfU/aFEIbWLP8D84nCHSC5ntP8xWKudR9/I/30At5joC8z9RJCqLSLXyP+jZIarhGfM/qPpIbIjC7j8+4JVTuHH6PxkOVmOIXPM/OS0liy348j9JNGDEDyX0P7qqv84I1+Q/8ddbV1s97D9P195vIAvtPxo9rTGiLgBA6ItW0iWj7T8Ylgreuxn7PwQSVKNqydg/ACSzgtLB5T/eWgNYxyz4P1mENPDUXPU/3nIeytdB/D+ZQYAC+IHxP5j7uGbLrts/bg15VYFQ/z9MA7F20kf2PwbyR6HjIt8/WhebBQmB8T9EeXtebV36P4Ga5oPOg/M/84r7eBUY8T9fQntAQ/DtP1peSY7tc/o/VMJopMRp8j9CWys8ARYBQO6S5dj2POc/4ngKEIlA+j9grw0Fsp/5P9uW0qT2rvQ/J5X7oMKc8z/Qt1jdLfT3Pw==",
          "dtype": "f8"
         },
         "y": {
          "bdata": "ko1jj/yv4T+GyF17xf7yP5gmrMjFosa/+wV+w79I8T/Weg/AEt7bP7aw2JR/vP4/8xE5HSg68j/EhOEKrdzxP7RN9tgsT/I/mU7Nua+k8D+6dDwhbpzmPxKSdB5L3fU/4rBKCQoT7T9YcoTBp3z4P2rjObbKPus/vLRkNRxM6D/AI6wwz1rGP+CJNAnOIL6/4D8I0jtP7z+wfZkivObav9ZFBWqUafU/QGs/QkVU+T8KomIfhyryP9d9eVh1hO4/DFI5h7/S8j/5MgvnNrvzP/edhwDipPg/4ra9E84Z8j/PrG4rFpbiP3moWJD6seQ/ECPVrGkp5z/EsrYiMRHvPxXm4nSpYOo/yq2B6d4W5D/DrJh28uTzPwM7aYEeK+A/T/Nm6X8X/j/sEihYRcbVPzQw2yaMSek/5B4t2pyF7j+K/10xE7PiP+i8xdvs6uc/4D+PrsvRrD/uwq+VtHfjPxP+PFcTaO0/WHd6D4gbtT+apDZG7Kj7PzQifvFs1ug/xXA6Tvts6z94cxvMBibhPw==",
          "dtype": "f8"
         }
        },
        {
         "line": {
          "color": "#ca8a04"
         },
         "marker": {
          "color": "#ca8a04",
          "opacity": 0.7,
          "size": 8
         },
         "mode": "markers",
         "name": "Group 3",
         "type": "scatter",
         "x": {
          "bdata": "sb2jhh5k+j/OyjMRh377P5YZSR5VYwFAYe8RcYovBUB4D6s6hvEEQBnk4a6H+gRACEtpxxaRAUCKKMwM5QH/Py7jPlkWoAZAYLKgc0Tg8j+OFi9xMuoDQFC2k7SrPgBA3d7ml291+j8BgpR/ebj6P70q8Lyt2gFAkzLCFOA2B0DFsFDM8Ir8PwHq6sKCjfw/cb4xSDUXAkAiy4n3qq8FQNAEon3TCvw/2scNrTKgAEBsLX/BgtP8P1R3eQuaDfk/FLcVnx/87T95uVK3Ze74P56HChTDBwBAr7+c/BsjA0AO5jLBgK/2PxgAGyo1mfw/PfByaqOtAkBYRPu4swoBQPhva0ALV/0/TiqvFUdOBEBD0M5K3OP8P2srmJmmmQFAtSJ2LuM+AkDnhZzbCjECQKdXP3aWUv0/QeKZ/igIBUAl12a9KUwCQAw812XJSv8/3Gz4FGkJ8z90FKGjijb9P7qhatT4aQFAkGd3KO8y8T+lF/Ca3G0BQBRTsIkfngBAQybvizgD+j92a3mcaLEGQA==",
          "dtype": "f8"
         },
         "y": {
          "bdata": "ruEKCC6tAUCP2k0GqJoAQIoQa1XSpAVA3MHPdTXdAEDAIRNaujX8P2NRS531kfs/+LcMN9Q6AUBawChRUD38P9rDsK/T9u8/mtIs/QX3A0BsXIYVfTT8P+zcjztDNf8/9WlOuupz/j8kJbG4dT75PyS2ogK/aANAlSiRDE00+j8MlyggXJ35P7AobbpRhAJAwOwJPv0mAEBanvhpGcj/Py5CCOgfFgdAIK2V2S5s8j9VS+tsi0UCQHOPz4SA7/Q/uuQ9bAKm/z9mMrCoih33P5hiFxlVQfQ/rSsH48hPAECALlAbX8/5P3i/78P8QPY/G6MY4KhZ+z8xws34+Qn8P6iihoeUagRA6oSm1UK2BUDAq+rBICMDQDirzmNYNgRAWq6EM6R6+T+thZI4L1HxP287MC9O2wBAsq+cedg1+T+vvdwXhlgGQMzSDelddwZALqk+vghy+z+wiqqUwgf4Py+xEznOSwJA0w9xI5raAEDUBIHZmav7P476lIUzPf8/JSWrFceB9j98snZi8bT3Pw==",
          "dtype": "f8"
         }
        }
       ],
       "layout": {
        "font": {
         "color": "#fafafa",
         "family": "Source Code Pro, monospace",
         "size": 12
        },
        "legend": {
         "bgcolor": "#343434",
         "bordercolor": "#404040",
         "font": {
          "color": "#fafafa"
         }
        },
        "paper_bgcolor": "#252525",
        "plot_bgcolor": "#343434",
        "template": {
         "data": {
          "bar": [
           {
            "error_x": {
             "color": "#2a3f5f"
            },
            "error_y": {
             "color": "#2a3f5f"
            },
            "marker": {
             "line": {
              "color": "#E5ECF6",
              "width": 0.5
             },
             "pattern": {
              "fillmode": "overlay",
              "size": 10,
              "solidity": 0.2
             }
            },
            "type": "bar"
           }
          ],
          "barpolar": [
           {
            "marker": {
             "line": {
              "color": "#E5ECF6",
              "width": 0.5
             },
             "pattern": {
              "fillmode": "overlay",
              "size": 10,
              "solidity": 0.2
             }
            },
            "type": "barpolar"
           }
          ],
          "carpet": [
           {
            "aaxis": {
             "endlinecolor": "#2a3f5f",
             "gridcolor": "white",
             "linecolor": "white",
             "minorgridcolor": "white",
             "startlinecolor": "#2a3f5f"
            },
            "baxis": {
             "endlinecolor": "#2a3f5f",
             "gridcolor": "white",
             "linecolor": "white",
             "minorgridcolor": "white",
             "startlinecolor": "#2a3f5f"
            },
            "type": "carpet"
           }
          ],
          "choropleth": [
           {
            "colorbar": {
             "outlinewidth": 0,
             "ticks": ""
            },
            "type": "choropleth"
           }
          ],
          "contour": [
           {
            "colorbar": {
             "outlinewidth": 0,
             "ticks": ""
            },
            "colorscale": [
             [
              0,
              "#0d0887"
             ],
             [
              0.1111111111111111,
              "#46039f"
             ],
             [
              0.2222222222222222,
              "#7201a8"
             ],
             [
              0.3333333333333333,
              "#9c179e"
             ],
             [
              0.4444444444444444,
              "#bd3786"
             ],
             [
              0.5555555555555556,
              "#d8576b"
             ],
             [
              0.6666666666666666,
              "#ed7953"
             ],
             [
              0.7777777777777778,
              "#fb9f3a"
             ],
             [
              0.8888888888888888,
              "#fdca26"
             ],
             [
              1,
              "#f0f921"
             ]
            ],
            "type": "contour"
           }
          ],
          "contourcarpet": [
           {
            "colorbar": {
             "outlinewidth": 0,
             "ticks": ""
            },
            "type": "contourcarpet"
           }
          ],
          "heatmap": [
           {
            "colorbar": {
             "outlinewidth": 0,
             "ticks": ""
            },
            "colorscale": [
             [
              0,
              "#0d0887"
             ],
             [
              0.1111111111111111,
              "#46039f"
             ],
             [
              0.2222222222222222,
              "#7201a8"
             ],
             [
              0.3333333333333333,
              "#9c179e"
             ],
             [
              0.4444444444444444,
              "#bd3786"
             ],
             [
              0.5555555555555556,
              "#d8576b"
             ],
             [
              0.6666666666666666,
              "#ed7953"
             ],
             [
              0.7777777777777778,
              "#fb9f3a"
             ],
             [
              0.8888888888888888,
              "#fdca26"
             ],
             [
              1,
              "#f0f921"
             ]
            ],
            "type": "heatmap"
           }
          ],
          "histogram": [
           {
            "marker": {
             "pattern": {
              "fillmode": "overlay",
              "size": 10,
              "solidity": 0.2
             }
            },
            "type": "histogram"
           }
          ],
          "histogram2d": [
           {
            "colorbar": {
             "outlinewidth": 0,
             "ticks": ""
            },
            "colorscale": [
             [
              0,
              "#0d0887"
             ],
             [
              0.1111111111111111,
              "#46039f"
             ],
             [
              0.2222222222222222,
              "#7201a8"
             ],
             [
              0.3333333333333333,
              "#9c179e"
             ],
             [
              0.4444444444444444,
              "#bd3786"
             ],
             [
              0.5555555555555556,
              "#d8576b"
             ],
             [
              0.6666666666666666,
              "#ed7953"
             ],
             [
              0.7777777777777778,
              "#fb9f3a"
             ],
             [
              0.8888888888888888,
              "#fdca26"
             ],
             [
              1,
              "#f0f921"
             ]
            ],
            "type": "histogram2d"
           }
          ],
          "histogram2dcontour": [
           {
            "colorbar": {
             "outlinewidth": 0,
             "ticks": ""
            },
            "colorscale": [
             [
              0,
              "#0d0887"
             ],
             [
              0.1111111111111111,
              "#46039f"
             ],
             [
              0.2222222222222222,
              "#7201a8"
             ],
             [
              0.3333333333333333,
              "#9c179e"
             ],
             [
              0.4444444444444444,
              "#bd3786"
             ],
             [
              0.5555555555555556,
              "#d8576b"
             ],
             [
              0.6666666666666666,
              "#ed7953"
             ],
             [
              0.7777777777777778,
              "#fb9f3a"
             ],
             [
              0.8888888888888888,
              "#fdca26"
             ],
             [
              1,
              "#f0f921"
             ]
            ],
            "type": "histogram2dcontour"
           }
          ],
          "mesh3d": [
           {
            "colorbar": {
             "outlinewidth": 0,
             "ticks": ""
            },
            "type": "mesh3d"
           }
          ],
          "parcoords": [
           {
            "line": {
             "colorbar": {
              "outlinewidth": 0,
              "ticks": ""
             }
            },
            "type": "parcoords"
           }
          ],
          "pie": [
           {
            "automargin": true,
            "type": "pie"
           }
          ],
          "scatter": [
           {
            "fillpattern": {
             "fillmode": "overlay",
             "size": 10,
             "solidity": 0.2
            },
            "type": "scatter"
           }
          ],
          "scatter3d": [
           {
            "line": {
             "colorbar": {
              "outlinewidth": 0,
              "ticks": ""
             }
            },
            "marker": {
             "colorbar": {
              "outlinewidth": 0,
              "ticks": ""
             }
            },
            "type": "scatter3d"
           }
          ],
          "scattercarpet": [
           {
            "marker": {
             "colorbar": {
              "outlinewidth": 0,
              "ticks": ""
             }
            },
            "type": "scattercarpet"
           }
          ],
          "scattergeo": [
           {
            "marker": {
             "colorbar": {
              "outlinewidth": 0,
              "ticks": ""
             }
            },
            "type": "scattergeo"
           }
          ],
          "scattergl": [
           {
            "marker": {
             "colorbar": {
              "outlinewidth": 0,
              "ticks": ""
             }
            },
            "type": "scattergl"
           }
          ],
          "scattermap": [
           {
            "marker": {
             "colorbar": {
              "outlinewidth": 0,
              "ticks": ""
             }
            },
            "type": "scattermap"
           }
          ],
          "scattermapbox": [
           {
            "marker": {
             "colorbar": {
              "outlinewidth": 0,
              "ticks": ""
             }
            },
            "type": "scattermapbox"
           }
          ],
          "scatterpolar": [
           {
            "marker": {
             "colorbar": {
              "outlinewidth": 0,
              "ticks": ""
             }
            },
            "type": "scatterpolar"
           }
          ],
          "scatterpolargl": [
           {
            "marker": {
             "colorbar": {
              "outlinewidth": 0,
              "ticks": ""
             }
            },
            "type": "scatterpolargl"
           }
          ],
          "scatterternary": [
           {
            "marker": {
             "colorbar": {
              "outlinewidth": 0,
              "ticks": ""
             }
            },
            "type": "scatterternary"
           }
          ],
          "surface": [
           {
            "colorbar": {
             "outlinewidth": 0,
             "ticks": ""
            },
            "colorscale": [
             [
              0,
              "#0d0887"
             ],
             [
              0.1111111111111111,
              "#46039f"
             ],
             [
              0.2222222222222222,
              "#7201a8"
             ],
             [
              0.3333333333333333,
              "#9c179e"
             ],
             [
              0.4444444444444444,
              "#bd3786"
             ],
             [
              0.5555555555555556,
              "#d8576b"
             ],
             [
              0.6666666666666666,
              "#ed7953"
             ],
             [
              0.7777777777777778,
              "#fb9f3a"
             ],
             [
              0.8888888888888888,
              "#fdca26"
             ],
             [
              1,
              "#f0f921"
             ]
            ],
            "type": "surface"
           }
          ],
          "table": [
           {
            "cells": {
             "fill": {
              "color": "#EBF0F8"
             },
             "line": {
              "color": "white"
             }
            },
            "header": {
             "fill": {
              "color": "#C8D4E3"
             },
             "line": {
              "color": "white"
             }
            },
            "type": "table"
           }
          ]
         },
         "layout": {
          "annotationdefaults": {
           "arrowcolor": "#2a3f5f",
           "arrowhead": 0,
           "arrowwidth": 1
          },
          "autotypenumbers": "strict",
          "coloraxis": {
           "colorbar": {
            "outlinewidth": 0,
            "ticks": ""
           }
          },
          "colorscale": {
           "diverging": [
            [
             0,
             "#8e0152"
            ],
            [
             0.1,
             "#c51b7d"
            ],
            [
             0.2,
             "#de77ae"
            ],
            [
             0.3,
             "#f1b6da"
            ],
            [
             0.4,
             "#fde0ef"
            ],
            [
             0.5,
             "#f7f7f7"
            ],
            [
             0.6,
             "#e6f5d0"
            ],
            [
             0.7,
             "#b8e186"
            ],
            [
             0.8,
             "#7fbc41"
            ],
            [
             0.9,
             "#4d9221"
            ],
            [
             1,
             "#276419"
            ]
           ],
           "sequential": [
            [
             0,
             "#0d0887"
            ],
            [
             0.1111111111111111,
             "#46039f"
            ],
            [
             0.2222222222222222,
             "#7201a8"
            ],
            [
             0.3333333333333333,
             "#9c179e"
            ],
            [
             0.4444444444444444,
             "#bd3786"
            ],
            [
             0.5555555555555556,
             "#d8576b"
            ],
            [
             0.6666666666666666,
             "#ed7953"
            ],
            [
             0.7777777777777778,
             "#fb9f3a"
            ],
            [
             0.8888888888888888,
             "#fdca26"
            ],
            [
             1,
             "#f0f921"
            ]
           ],
           "sequentialminus": [
            [
             0,
             "#0d0887"
            ],
            [
             0.1111111111111111,
             "#46039f"
            ],
            [
             0.2222222222222222,
             "#7201a8"
            ],
            [
             0.3333333333333333,
             "#9c179e"
            ],
            [
             0.4444444444444444,
             "#bd3786"
            ],
            [
             0.5555555555555556,
             "#d8576b"
            ],
            [
             0.6666666666666666,
             "#ed7953"
            ],
            [
             0.7777777777777778,
             "#fb9f3a"
            ],
            [
             0.8888888888888888,
             "#fdca26"
            ],
            [
             1,
             "#f0f921"
            ]
           ]
          },
          "colorway": [
           "#636efa",
           "#EF553B",
           "#00cc96",
           "#ab63fa",
           "#FFA15A",
           "#19d3f3",
           "#FF6692",
           "#B6E880",
           "#FF97FF",
           "#FECB52"
          ],
          "font": {
           "color": "#2a3f5f"
          },
          "geo": {
           "bgcolor": "white",
           "lakecolor": "white",
           "landcolor": "#E5ECF6",
           "showlakes": true,
           "showland": true,
           "subunitcolor": "white"
          },
          "hoverlabel": {
           "align": "left"
          },
          "hovermode": "closest",
          "mapbox": {
           "style": "light"
          },
          "paper_bgcolor": "white",
          "plot_bgcolor": "#E5ECF6",
          "polar": {
           "angularaxis": {
            "gridcolor": "white",
            "linecolor": "white",
            "ticks": ""
           },
           "bgcolor": "#E5ECF6",
           "radialaxis": {
            "gridcolor": "white",
            "linecolor": "white",
            "ticks": ""
           }
          },
          "scene": {
           "xaxis": {
            "backgroundcolor": "#E5ECF6",
            "gridcolor": "white",
            "gridwidth": 2,
            "linecolor": "white",
            "showbackground": true,
            "ticks": "",
            "zerolinecolor": "white"
           },
           "yaxis": {
            "backgroundcolor": "#E5ECF6",
            "gridcolor": "white",
            "gridwidth": 2,
            "linecolor": "white",
            "showbackground": true,
            "ticks": "",
            "zerolinecolor": "white"
           },
           "zaxis": {
            "backgroundcolor": "#E5ECF6",
            "gridcolor": "white",
            "gridwidth": 2,
            "linecolor": "white",
            "showbackground": true,
            "ticks": "",
            "zerolinecolor": "white"
           }
          },
          "shapedefaults": {
           "line": {
            "color": "#2a3f5f"
           }
          },
          "ternary": {
           "aaxis": {
            "gridcolor": "white",
            "linecolor": "white",
            "ticks": ""
           },
           "baxis": {
            "gridcolor": "white",
            "linecolor": "white",
            "ticks": ""
           },
           "bgcolor": "#E5ECF6",
           "caxis": {
            "gridcolor": "white",
            "linecolor": "white",
            "ticks": ""
           }
          },
          "title": {
           "x": 0.05
          },
          "xaxis": {
           "automargin": true,
           "gridcolor": "white",
           "linecolor": "white",
           "ticks": "",
           "title": {
            "standoff": 15
           },
           "zerolinecolor": "white",
           "zerolinewidth": 2
          },
          "yaxis": {
           "automargin": true,
           "gridcolor": "white",
           "linecolor": "white",
           "ticks": "",
           "title": {
            "standoff": 15
           },
           "zerolinecolor": "white",
           "zerolinewidth": 2
          }
         }
        },
        "title": {
         "text": "Scatter Plot - Dark Theme"
        },
        "xaxis": {
         "gridcolor": "#404040",
         "linecolor": "#404040",
         "tickcolor": "#404040",
         "tickfont": {
          "color": "#fafafa"
         },
         "title": {
          "font": {
           "color": "#fafafa"
          }
         }
        },
        "yaxis": {
         "gridcolor": "#404040",
         "linecolor": "#404040",
         "tickcolor": "#404040",
         "tickfont": {
          "color": "#fafafa"
         },
         "title": {
          "font": {
           "color": "#fafafa"
          }
         }
        }
       }
      }
     },
     "metadata": {},
     "output_type": "display_data"
    }
   ],
   "source": [
    "# Additional examples: Bar chart and Scatter plot with CSS colors\n",
    "import plotly.express as px\n",
    "\n",
    "# Bar chart example\n",
    "categories = ['Category A', 'Category B', 'Category C', 'Category D', 'Category E']\n",
    "values = [23, 45, 56, 78, 32]\n",
    "\n",
    "fig_bar = go.Figure()\n",
    "fig_bar.add_trace(go.Bar(\n",
    "    x=categories,\n",
    "    y=values,\n",
    "    marker_color=CHART_COLORS_LIGHT[:len(categories)]  # Use CSS chart colors\n",
    "))\n",
    "\n",
    "update_layout(fig_bar, 'Bar Chart - CSS Colors', 'light')\n",
    "print(\"📊 Bar Chart with CSS Colors:\")\n",
    "fig_bar.show()\n",
    "\n",
    "# Scatter plot example\n",
    "fig_scatter = go.Figure()\n",
    "for i in range(3):\n",
    "    x_data = np.random.normal(i, 0.5, 50)\n",
    "    y_data = np.random.normal(i, 0.5, 50)\n",
    "    fig_scatter.add_trace(go.Scatter(\n",
    "        x=x_data,\n",
    "        y=y_data,\n",
    "        mode='markers',\n",
    "        name=f'Group {i+1}',\n",
    "        marker=dict(\n",
    "            color=CHART_COLORS_DARK[i],\n",
    "            size=8,\n",
    "            opacity=0.7\n",
    "        )\n",
    "    ))\n",
    "\n",
    "update_layout(fig_scatter, 'Scatter Plot - Dark Theme', 'dark')\n",
    "print(\"🔵 Scatter Plot with Dark Theme:\")\n",
    "fig_scatter.show()\n"
   ]
  }
 ],
 "metadata": {
  "kernelspec": {
   "display_name": ".venv",
   "language": "python",
   "name": "python3"
  },
  "language_info": {
   "codemirror_mode": {
    "name": "ipython",
    "version": 3
   },
   "file_extension": ".py",
   "mimetype": "text/x-python",
   "name": "python",
   "nbconvert_exporter": "python",
   "pygments_lexer": "ipython3",
   "version": "3.12.6"
  }
 },
 "nbformat": 4,
 "nbformat_minor": 5
}
