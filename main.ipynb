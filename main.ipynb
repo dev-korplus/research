{
 "cells": [
  {
   "cell_type": "code",
   "execution_count": 1,
   "id": "c58c533d",
   "metadata": {},
   "outputs": [
    {
     "data": {
      "application/vnd.plotly.v1+json": {
       "config": {
        "plotlyServerURL": "https://plot.ly"
       },
       "data": [
        {
         "line": {
          "color": "#d97706"
         },
         "mode": "lines",
         "name": "y1",
         "type": "scatter",
         "x": {
          "bdata": "AAECAwQFBgcICQoLDA0ODxAREhMUFRYXGBkaGxwdHh8gISIjJCUmJygpKissLS4vMDEyMzQ1Njc4OTo7PD0+P0BBQkNERUZHSElKS0xNTk9QUVJTVFVWV1hZWltcXV5fYGFiYw==",
          "dtype": "i1"
         },
         "y": {
          "bdata": "AAAAAAAAAADsrSXrXnL0P0EBkWybf/w/9BCEl/Z0/z+QC4d94vn/PzwCyYvTOP8/AHk7emDG/T/SQ8w27/L7P/duJ62O7Pk/Cy8D2q/O9z+ZzVugGKr1P8SAscUtifM/xue+vGJy8T+D3LIfVtPuP7UtTma54uo/yWjHNX0V5z813WVVyWzjP5vgzoKw0d8/g3hGp48S2T8yw5yNn5rSPx9kZJ6bz8g/1ohH9+TeuT+vcke/ovqIP/vGtwT7qbK/QhAMJsrDw7+F/Lcg8MHNv2pXksRBqtO/41YvMzdA2L9mCUdXNaXcv/9G6ru/beC/wcowNp9y4r81LONEQGLkv3p2gAGdPea/PlVNzKIF6L/sV7+9MrvpvxGr2CciX+u/MC9rIDvy7L87EzsPPXXuv3+/cDzd6O+/6p5uruOm8L8jHS8NT1Lxv0pTocv99vG/mpH+9TiV8r/g91/PRS3zv2J2awpmv/O/XGXe/tdL9L9mhgLc1tL0v40SJNiaVPW/HfolXVnR9b8Xj1UyRUn2vwodoaOOvPa/3u9VpmMr97+0WYr775X3v0WuV1Bd/Pe/9hoHXNNe+L9B5lL8d734v0AT3E9vGPm/0bzyzttv+b9lxs1i3sP5v67KTHuWFPq/2YFdIyJi+r/LNhwUnqz6v3RSxcYl9Pq/pYWMhdM4+79PsGx7wHr7vxlQAsMEuvu/cACBdLf2+7+DatOy7jD8v1/s87e/aPy/MDqL4D6e/L8lSuG2f9H8vxX7K/2UAv2/ARVGt5Ax/b9PgdgzhF79vzbl/hSAif2/CCNwWJSy/b/ErDJf0Nn9v+AE5PRC//2/sUWaVvoi/r9kDmY5BEX+v4fDetBtZf6/cqgC00OE/r+K9qOBkqH+vzS9u6tlvf6/ywJTtMjX/r+nUdKWxvD+v02Vd+tpCP+/WemR67we/7/dvoZ1yTP/v6mDoxCZR/+/S8K+8DRa/7+TgKv5pWv/v7N0gcL0e/+/5X68mCmL/7/6rTWDTJn/v6Dw90Rlpv+/MHPyX3uy/7/jiYoXlr3/v/TpDnO8x/+/fdgNQPXQ/78=",
          "dtype": "f8"
         }
        },
        {
         "line": {
          "color": "#0891b2"
         },
         "mode": "lines",
         "name": "y2",
         "type": "scatter",
         "x": {
          "bdata": "AAECAwQFBgcICQoLDA0ODxAREhMUFRYXGBkaGxwdHh8gISIjJCUmJygpKissLS4vMDEyMzQ1Njc4OTo7PD0+P0BBQkNERUZHSElKS0xNTk9QUVJTVFVWV1hZWltcXV5fYGFiYw==",
          "dtype": "i1"
         },
         "y": {
          "bdata": "AAAAAAAA8L/G3qao8qPsvwawM/aS9+i/KETUM2L/5L+OcmPom8Pgv4yloW1xodi/cNDrKAbfzr8QsnZF6nK4v8BzWmupF6k/ILoC67EoyD+QFws3OXfUP7At/RBdCdw/fIhZTRRF4T/kwADSR9/jPzSreLOAuuU/8G3V1nPE5j/kfI3zq/LmPzSU2aZTQ+Y/zBlUQFm95D+AOTAD6G/iP+iN5rGN4t4/oETqGHy61z+g6jkvx0zPP8C/Zhciobs/QCFIdgHzob/gr3Mp9x/HvxQUZPNa1dS/VI/wUXrf3b/cLeFDNUTjv7oNXte9Wee/yjG8sWUm67/sq9WzMKTuv2u2Q3RB6PC/+P8z5b1V8r9+7263qJvzv430M3/bu/S/ZiXE1Kq49b9Uak3QrZT2v2a7IdyQUve/BBPiMPP097+cd9OxTX74v16QnJPh8Pi/7ojvJ61O+b9WR/1AZZn5v2/2Kc9x0vm/aBK8lez6+b/mgLIPoRP6v3x/tNcMHfq/3QwWG2AX+r9egSnQfQL6v2131ZT73fm/mc2xRSGp+b9VdRuK6GL5v1BO5sD8Cfm/unwd7buc+L+a/vV6ORn4v2vDNfFDffe/wATB3m7G9r+KEUCHIvL1v75CVfGy/fS/2ubU9H/m87844WOsH6ryvzrnhyaURvG/kiwklhh177+y3E8tXQvsv2rDQyLVUei/9BI8qZdN5L/KoQyejgfgv3BYG8flGde/KIS7ilW+y79A0R0o+C6yv0CEECdarLI/cHx1EjQSyz8IqfS5g83VP0glYBIcNt0/xAa3anfB4T+8mIO7IT3kP4RCCt0+9uU/3EX1VsDb5j90xqFTmuTmP1zyjuhyEOY/VK588qhn5D+8ucezsfrhP/CCudrAwd0/EL3uCnht1j9wobdoR3DMP2C/DIXFj7U/wOuAwMpwrr+4c4QSm0LKv9QVkbXCX9a/bEgEAvFb379UNGyNvPjjvxT3d8+YAui/3mrumU/C679AEwAugTLvv+ZUR3KJKPG/QYKfuUSP8r+Suy2oss7zv5IHA/HF6PS/KfIa/+Hf9b8=",
          "dtype": "f8"
         }
        },
        {
         "line": {
          "color": "#7c3aed"
         },
         "mode": "lines",
         "name": "y3",
         "type": "scatter",
         "x": {
          "bdata": "AAECAwQFBgcICQoLDA0ODxAREhMUFRYXGBkaGxwdHh8gISIjJCUmJygpKissLS4vMDEyMzQ1Njc4OTo7PD0+P0BBQkNERUZHSElKS0xNTk9QUVJTVFVWV1hZWltcXV5fYGFiYw==",
          "dtype": "i1"
         },
         "y": {
          "bdata": "AAAAAAAAAAD7VHvEYqDBP++u8DJmYds/AGp+HmAM6T+W714H/3jyP+TrGk2YH/g/nV7i38QE/T+jCSYpu2QAQDb2cUf/kQFA7akkIV7wAUCnE1COdXEBQAr37Y+CEgBAG94iLHC4+z+Y0E5LWsT1P0gYiFJ+B+0/PJbb24cK2T9nRSCyYSvFv+iroOOuoue/R0uUuvvY9L/rOOxp0FP9vwtxZR/NbgLA++jOnXiNBcCJeFuLtN4HwA/W0laXQwnAx9EdS/mmCcBNIsQlgP4IwIrTSCA1SwfA6hhEe56ZBMCT8FnTWgEBwKQwHbGDSPm/DBi7u0y07r+l4CejCG7Sv22Fboi6FNo/lFiXG+WT8T8UuGuWoBv8P6wzXMen1QJAhgbg/UztBkBRM0emLCcKQAMincBGXgxAQw2HAtJ3DUAm2ij6dWQNQCFC6AQOIQxAuxSHGey2CUCWHAKslzsGQPa2lWYK0AFAp9o6ueM++T+VcpgBCnbrP6ZU8LmZjbg/1KL7o9m15b+EQJL4VPD2v8bsQQOqHAHAbA67K30fBsAu8QQMMEsKwCy6RM2Ocg3AmweFyI9yD8AYSZh16xkQwCzqqs/Bqw/AnaBQwvDcDcB4eb04RtcKwEeFuNlbtwbApTo33XGlAcCXKY0Uxqf3v1vHVMqy9OW/H/WQUBfmwT8fk+Yo2OzuP/oqXtBpKvw/TXh4O3jqA0Ao8oIg//0IQGW5ZMctGg1A4gqZaoIJEEAtJ3ZG/OMQQEXT7gmqEhFA7+pB4IySEECJzeygVs8OQHKWvQ/lOQtALOF9C6CHBkBfrW7VDucAQFPqKc8rIfU/0gWS1voh3j/bOOi3dsbZvx0lFrMpPvS/iwr+CpenAMCa3VOIuo4GwF1OlZ4ClwvAAiAhpZKLD8BH9loGLSERwECuGeTpzhHAHzDZPiPHEcCvKIr+OwkRwMMP5hjMNw/AfL7A9cwZC8DO0L/1IOEFwCxT/aTwg/+/YHPHBQT08b8XVHaRx9/Mv5LQ6mwU5OU/fVd1agoh+T/gUOczmC8DQC7hSrPTEQlA+4nfuhL6DUA=",
          "dtype": "f8"
         }
        }
       ],
       "layout": {
        "font": {
         "color": "#252525",
         "family": "Source Code Pro, monospace",
         "size": 10
        },
        "legend": {
         "bgcolor": "#ffffff",
         "bordercolor": "#d0d0d0",
         "font": {
          "color": "#252525"
         },
         "orientation": "h",
         "x": 0.5,
         "xanchor": "center",
         "y": -0.25,
         "yanchor": "bottom"
        },
        "paper_bgcolor": "#ffffff",
        "plot_bgcolor": "#ffffff",
        "template": {
         "data": {
          "bar": [
           {
            "error_x": {
             "color": "#2a3f5f"
            },
            "error_y": {
             "color": "#2a3f5f"
            },
            "marker": {
             "line": {
              "color": "#E5ECF6",
              "width": 0.5
             },
             "pattern": {
              "fillmode": "overlay",
              "size": 10,
              "solidity": 0.2
             }
            },
            "type": "bar"
           }
          ],
          "barpolar": [
           {
            "marker": {
             "line": {
              "color": "#E5ECF6",
              "width": 0.5
             },
             "pattern": {
              "fillmode": "overlay",
              "size": 10,
              "solidity": 0.2
             }
            },
            "type": "barpolar"
           }
          ],
          "carpet": [
           {
            "aaxis": {
             "endlinecolor": "#2a3f5f",
             "gridcolor": "white",
             "linecolor": "white",
             "minorgridcolor": "white",
             "startlinecolor": "#2a3f5f"
            },
            "baxis": {
             "endlinecolor": "#2a3f5f",
             "gridcolor": "white",
             "linecolor": "white",
             "minorgridcolor": "white",
             "startlinecolor": "#2a3f5f"
            },
            "type": "carpet"
           }
          ],
          "choropleth": [
           {
            "colorbar": {
             "outlinewidth": 0,
             "ticks": ""
            },
            "type": "choropleth"
           }
          ],
          "contour": [
           {
            "colorbar": {
             "outlinewidth": 0,
             "ticks": ""
            },
            "colorscale": [
             [
              0,
              "#0d0887"
             ],
             [
              0.1111111111111111,
              "#46039f"
             ],
             [
              0.2222222222222222,
              "#7201a8"
             ],
             [
              0.3333333333333333,
              "#9c179e"
             ],
             [
              0.4444444444444444,
              "#bd3786"
             ],
             [
              0.5555555555555556,
              "#d8576b"
             ],
             [
              0.6666666666666666,
              "#ed7953"
             ],
             [
              0.7777777777777778,
              "#fb9f3a"
             ],
             [
              0.8888888888888888,
              "#fdca26"
             ],
             [
              1,
              "#f0f921"
             ]
            ],
            "type": "contour"
           }
          ],
          "contourcarpet": [
           {
            "colorbar": {
             "outlinewidth": 0,
             "ticks": ""
            },
            "type": "contourcarpet"
           }
          ],
          "heatmap": [
           {
            "colorbar": {
             "outlinewidth": 0,
             "ticks": ""
            },
            "colorscale": [
             [
              0,
              "#0d0887"
             ],
             [
              0.1111111111111111,
              "#46039f"
             ],
             [
              0.2222222222222222,
              "#7201a8"
             ],
             [
              0.3333333333333333,
              "#9c179e"
             ],
             [
              0.4444444444444444,
              "#bd3786"
             ],
             [
              0.5555555555555556,
              "#d8576b"
             ],
             [
              0.6666666666666666,
              "#ed7953"
             ],
             [
              0.7777777777777778,
              "#fb9f3a"
             ],
             [
              0.8888888888888888,
              "#fdca26"
             ],
             [
              1,
              "#f0f921"
             ]
            ],
            "type": "heatmap"
           }
          ],
          "histogram": [
           {
            "marker": {
             "pattern": {
              "fillmode": "overlay",
              "size": 10,
              "solidity": 0.2
             }
            },
            "type": "histogram"
           }
          ],
          "histogram2d": [
           {
            "colorbar": {
             "outlinewidth": 0,
             "ticks": ""
            },
            "colorscale": [
             [
              0,
              "#0d0887"
             ],
             [
              0.1111111111111111,
              "#46039f"
             ],
             [
              0.2222222222222222,
              "#7201a8"
             ],
             [
              0.3333333333333333,
              "#9c179e"
             ],
             [
              0.4444444444444444,
              "#bd3786"
             ],
             [
              0.5555555555555556,
              "#d8576b"
             ],
             [
              0.6666666666666666,
              "#ed7953"
             ],
             [
              0.7777777777777778,
              "#fb9f3a"
             ],
             [
              0.8888888888888888,
              "#fdca26"
             ],
             [
              1,
              "#f0f921"
             ]
            ],
            "type": "histogram2d"
           }
          ],
          "histogram2dcontour": [
           {
            "colorbar": {
             "outlinewidth": 0,
             "ticks": ""
            },
            "colorscale": [
             [
              0,
              "#0d0887"
             ],
             [
              0.1111111111111111,
              "#46039f"
             ],
             [
              0.2222222222222222,
              "#7201a8"
             ],
             [
              0.3333333333333333,
              "#9c179e"
             ],
             [
              0.4444444444444444,
              "#bd3786"
             ],
             [
              0.5555555555555556,
              "#d8576b"
             ],
             [
              0.6666666666666666,
              "#ed7953"
             ],
             [
              0.7777777777777778,
              "#fb9f3a"
             ],
             [
              0.8888888888888888,
              "#fdca26"
             ],
             [
              1,
              "#f0f921"
             ]
            ],
            "type": "histogram2dcontour"
           }
          ],
          "mesh3d": [
           {
            "colorbar": {
             "outlinewidth": 0,
             "ticks": ""
            },
            "type": "mesh3d"
           }
          ],
          "parcoords": [
           {
            "line": {
             "colorbar": {
              "outlinewidth": 0,
              "ticks": ""
             }
            },
            "type": "parcoords"
           }
          ],
          "pie": [
           {
            "automargin": true,
            "type": "pie"
           }
          ],
          "scatter": [
           {
            "fillpattern": {
             "fillmode": "overlay",
             "size": 10,
             "solidity": 0.2
            },
            "type": "scatter"
           }
          ],
          "scatter3d": [
           {
            "line": {
             "colorbar": {
              "outlinewidth": 0,
              "ticks": ""
             }
            },
            "marker": {
             "colorbar": {
              "outlinewidth": 0,
              "ticks": ""
             }
            },
            "type": "scatter3d"
           }
          ],
          "scattercarpet": [
           {
            "marker": {
             "colorbar": {
              "outlinewidth": 0,
              "ticks": ""
             }
            },
            "type": "scattercarpet"
           }
          ],
          "scattergeo": [
           {
            "marker": {
             "colorbar": {
              "outlinewidth": 0,
              "ticks": ""
             }
            },
            "type": "scattergeo"
           }
          ],
          "scattergl": [
           {
            "marker": {
             "colorbar": {
              "outlinewidth": 0,
              "ticks": ""
             }
            },
            "type": "scattergl"
           }
          ],
          "scattermap": [
           {
            "marker": {
             "colorbar": {
              "outlinewidth": 0,
              "ticks": ""
             }
            },
            "type": "scattermap"
           }
          ],
          "scattermapbox": [
           {
            "marker": {
             "colorbar": {
              "outlinewidth": 0,
              "ticks": ""
             }
            },
            "type": "scattermapbox"
           }
          ],
          "scatterpolar": [
           {
            "marker": {
             "colorbar": {
              "outlinewidth": 0,
              "ticks": ""
             }
            },
            "type": "scatterpolar"
           }
          ],
          "scatterpolargl": [
           {
            "marker": {
             "colorbar": {
              "outlinewidth": 0,
              "ticks": ""
             }
            },
            "type": "scatterpolargl"
           }
          ],
          "scatterternary": [
           {
            "marker": {
             "colorbar": {
              "outlinewidth": 0,
              "ticks": ""
             }
            },
            "type": "scatterternary"
           }
          ],
          "surface": [
           {
            "colorbar": {
             "outlinewidth": 0,
             "ticks": ""
            },
            "colorscale": [
             [
              0,
              "#0d0887"
             ],
             [
              0.1111111111111111,
              "#46039f"
             ],
             [
              0.2222222222222222,
              "#7201a8"
             ],
             [
              0.3333333333333333,
              "#9c179e"
             ],
             [
              0.4444444444444444,
              "#bd3786"
             ],
             [
              0.5555555555555556,
              "#d8576b"
             ],
             [
              0.6666666666666666,
              "#ed7953"
             ],
             [
              0.7777777777777778,
              "#fb9f3a"
             ],
             [
              0.8888888888888888,
              "#fdca26"
             ],
             [
              1,
              "#f0f921"
             ]
            ],
            "type": "surface"
           }
          ],
          "table": [
           {
            "cells": {
             "fill": {
              "color": "#EBF0F8"
             },
             "line": {
              "color": "white"
             }
            },
            "header": {
             "fill": {
              "color": "#C8D4E3"
             },
             "line": {
              "color": "white"
             }
            },
            "type": "table"
           }
          ]
         },
         "layout": {
          "annotationdefaults": {
           "arrowcolor": "#2a3f5f",
           "arrowhead": 0,
           "arrowwidth": 1
          },
          "autotypenumbers": "strict",
          "coloraxis": {
           "colorbar": {
            "outlinewidth": 0,
            "ticks": ""
           }
          },
          "colorscale": {
           "diverging": [
            [
             0,
             "#8e0152"
            ],
            [
             0.1,
             "#c51b7d"
            ],
            [
             0.2,
             "#de77ae"
            ],
            [
             0.3,
             "#f1b6da"
            ],
            [
             0.4,
             "#fde0ef"
            ],
            [
             0.5,
             "#f7f7f7"
            ],
            [
             0.6,
             "#e6f5d0"
            ],
            [
             0.7,
             "#b8e186"
            ],
            [
             0.8,
             "#7fbc41"
            ],
            [
             0.9,
             "#4d9221"
            ],
            [
             1,
             "#276419"
            ]
           ],
           "sequential": [
            [
             0,
             "#0d0887"
            ],
            [
             0.1111111111111111,
             "#46039f"
            ],
            [
             0.2222222222222222,
             "#7201a8"
            ],
            [
             0.3333333333333333,
             "#9c179e"
            ],
            [
             0.4444444444444444,
             "#bd3786"
            ],
            [
             0.5555555555555556,
             "#d8576b"
            ],
            [
             0.6666666666666666,
             "#ed7953"
            ],
            [
             0.7777777777777778,
             "#fb9f3a"
            ],
            [
             0.8888888888888888,
             "#fdca26"
            ],
            [
             1,
             "#f0f921"
            ]
           ],
           "sequentialminus": [
            [
             0,
             "#0d0887"
            ],
            [
             0.1111111111111111,
             "#46039f"
            ],
            [
             0.2222222222222222,
             "#7201a8"
            ],
            [
             0.3333333333333333,
             "#9c179e"
            ],
            [
             0.4444444444444444,
             "#bd3786"
            ],
            [
             0.5555555555555556,
             "#d8576b"
            ],
            [
             0.6666666666666666,
             "#ed7953"
            ],
            [
             0.7777777777777778,
             "#fb9f3a"
            ],
            [
             0.8888888888888888,
             "#fdca26"
            ],
            [
             1,
             "#f0f921"
            ]
           ]
          },
          "colorway": [
           "#636efa",
           "#EF553B",
           "#00cc96",
           "#ab63fa",
           "#FFA15A",
           "#19d3f3",
           "#FF6692",
           "#B6E880",
           "#FF97FF",
           "#FECB52"
          ],
          "font": {
           "color": "#2a3f5f"
          },
          "geo": {
           "bgcolor": "white",
           "lakecolor": "white",
           "landcolor": "#E5ECF6",
           "showlakes": true,
           "showland": true,
           "subunitcolor": "white"
          },
          "hoverlabel": {
           "align": "left"
          },
          "hovermode": "closest",
          "mapbox": {
           "style": "light"
          },
          "paper_bgcolor": "white",
          "plot_bgcolor": "#E5ECF6",
          "polar": {
           "angularaxis": {
            "gridcolor": "white",
            "linecolor": "white",
            "ticks": ""
           },
           "bgcolor": "#E5ECF6",
           "radialaxis": {
            "gridcolor": "white",
            "linecolor": "white",
            "ticks": ""
           }
          },
          "scene": {
           "xaxis": {
            "backgroundcolor": "#E5ECF6",
            "gridcolor": "white",
            "gridwidth": 2,
            "linecolor": "white",
            "showbackground": true,
            "ticks": "",
            "zerolinecolor": "white"
           },
           "yaxis": {
            "backgroundcolor": "#E5ECF6",
            "gridcolor": "white",
            "gridwidth": 2,
            "linecolor": "white",
            "showbackground": true,
            "ticks": "",
            "zerolinecolor": "white"
           },
           "zaxis": {
            "backgroundcolor": "#E5ECF6",
            "gridcolor": "white",
            "gridwidth": 2,
            "linecolor": "white",
            "showbackground": true,
            "ticks": "",
            "zerolinecolor": "white"
           }
          },
          "shapedefaults": {
           "line": {
            "color": "#2a3f5f"
           }
          },
          "ternary": {
           "aaxis": {
            "gridcolor": "white",
            "linecolor": "white",
            "ticks": ""
           },
           "baxis": {
            "gridcolor": "white",
            "linecolor": "white",
            "ticks": ""
           },
           "bgcolor": "#E5ECF6",
           "caxis": {
            "gridcolor": "white",
            "linecolor": "white",
            "ticks": ""
           }
          },
          "title": {
           "x": 0.05
          },
          "xaxis": {
           "automargin": true,
           "gridcolor": "white",
           "linecolor": "white",
           "ticks": "",
           "title": {
            "standoff": 15
           },
           "zerolinecolor": "white",
           "zerolinewidth": 2
          },
          "yaxis": {
           "automargin": true,
           "gridcolor": "white",
           "linecolor": "white",
           "ticks": "",
           "title": {
            "standoff": 15
           },
           "zerolinecolor": "white",
           "zerolinewidth": 2
          }
         }
        },
        "title": {
         "text": "Commits by Month"
        },
        "xaxis": {
         "gridcolor": "#d0d0d0",
         "gridwidth": 0.5,
         "linecolor": "#d0d0d0",
         "linewidth": 0.5,
         "tickcolor": "#d0d0d0",
         "tickfont": {
          "color": "#252525"
         },
         "title": {
          "text": "Date"
         },
         "zeroline": true,
         "zerolinecolor": "#d0d0d0",
         "zerolinewidth": 0.5
        },
        "yaxis": {
         "gridcolor": "#d0d0d0",
         "gridwidth": 0.5,
         "linecolor": "#d0d0d0",
         "linewidth": 0.5,
         "tickcolor": "#d0d0d0",
         "tickfont": {
          "color": "#252525"
         },
         "title": {
          "text": "Commits (Monthly)"
         },
         "zeroline": true,
         "zerolinecolor": "#d0d0d0",
         "zerolinewidth": 0.5
        }
       }
      }
     },
     "metadata": {},
     "output_type": "display_data"
    }
   ],
   "source": [
    "from utils.plotter import *\n",
    "import numpy as np\n",
    "import polars as pl\n",
    "\n",
    "df = pl.DataFrame(\n",
    "    {\n",
    "        \"ts\": np.arange(100),\n",
    "        \"y1\": np.sin(np.log(np.arange(100) + 1)) * 2,\n",
    "        \"y2\": np.exp(np.sin(np.arange(100) / 10)) - 2,\n",
    "        \"y3\": np.log(np.arange(100) + 1) * np.sin(np.arange(100) / 5),\n",
    "    }\n",
    ")\n",
    "\n",
    "fig = plot_lines(\n",
    "    df=df,\n",
    "    title=\"Commits by Month\",\n",
    "    theme=\"dark\",\n",
    "    x_col=\"ts\",\n",
    "    y_cols=[\"y1\", \"y2\", \"y3\"],\n",
    "    x_axis_title=\"Date\",\n",
    "    y_axis_title=\"Commits (Monthly)\",\n",
    ")\n",
    "fig"
   ]
  },
  {
   "cell_type": "code",
   "execution_count": 3,
   "id": "a825997d",
   "metadata": {},
   "outputs": [
    {
     "ename": "FileNotFoundError",
     "evalue": "[Errno 2] No such file or directory: 'pics/pic.png'",
     "output_type": "error",
     "traceback": [
      "\u001b[31m---------------------------------------------------------------------------\u001b[39m",
      "\u001b[31mFileNotFoundError\u001b[39m                         Traceback (most recent call last)",
      "\u001b[36mCell\u001b[39m\u001b[36m \u001b[39m\u001b[32mIn[3]\u001b[39m\u001b[32m, line 1\u001b[39m\n\u001b[32m----> \u001b[39m\u001b[32m1\u001b[39m \u001b[43mexport_png\u001b[49m\u001b[43m(\u001b[49m\n\u001b[32m      2\u001b[39m \u001b[43m    \u001b[49m\u001b[43mfig\u001b[49m\u001b[43m,\u001b[49m\u001b[43m \u001b[49m\n\u001b[32m      3\u001b[39m \u001b[43m    \u001b[49m\u001b[33;43m\"\u001b[39;49m\u001b[33;43mpics/pic.png\u001b[39;49m\u001b[33;43m\"\u001b[39;49m\u001b[43m,\u001b[49m\n\u001b[32m      4\u001b[39m \u001b[43m    \u001b[49m\u001b[43mwidth\u001b[49m\u001b[43m=\u001b[49m\u001b[32;43m1600\u001b[39;49m\u001b[43m,\u001b[49m\n\u001b[32m      5\u001b[39m \u001b[43m    \u001b[49m\u001b[43mheight\u001b[49m\u001b[43m=\u001b[49m\u001b[32;43m400\u001b[39;49m\u001b[43m,\u001b[49m\n\u001b[32m      6\u001b[39m \u001b[43m    \u001b[49m\u001b[43mscale\u001b[49m\u001b[43m=\u001b[49m\u001b[32;43m1\u001b[39;49m\u001b[43m)\u001b[49m\n",
      "\u001b[36mFile \u001b[39m\u001b[32m~/Documents/GitHub/research/utils/plotter.py:181\u001b[39m, in \u001b[36mexport_png\u001b[39m\u001b[34m(fig, filename, width, height, scale)\u001b[39m\n\u001b[32m    167\u001b[39m \u001b[38;5;28;01mdef\u001b[39;00m\u001b[38;5;250m \u001b[39m\u001b[34mexport_png\u001b[39m(fig: go.Figure, filename: \u001b[38;5;28mstr\u001b[39m, width: \u001b[38;5;28mint\u001b[39m = \u001b[32m1200\u001b[39m, height: \u001b[38;5;28mint\u001b[39m = \u001b[32m800\u001b[39m, scale: \u001b[38;5;28mfloat\u001b[39m = \u001b[32m1.0\u001b[39m):\n\u001b[32m    168\u001b[39m \u001b[38;5;250m    \u001b[39m\u001b[33;03m\"\"\"\u001b[39;00m\n\u001b[32m    169\u001b[39m \u001b[33;03m    Export Plotly figure as PNG with custom dimensions and scale\u001b[39;00m\n\u001b[32m    170\u001b[39m \u001b[33;03m    \u001b[39;00m\n\u001b[32m   (...)\u001b[39m\u001b[32m    179\u001b[39m \u001b[33;03m        str: Path to exported file\u001b[39;00m\n\u001b[32m    180\u001b[39m \u001b[33;03m    \"\"\"\u001b[39;00m\n\u001b[32m--> \u001b[39m\u001b[32m181\u001b[39m     \u001b[38;5;28;01mreturn\u001b[39;00m \u001b[43mexport_png_high_quality\u001b[49m\u001b[43m(\u001b[49m\u001b[43mfig\u001b[49m\u001b[43m,\u001b[49m\u001b[43m \u001b[49m\u001b[43mfilename\u001b[49m\u001b[43m,\u001b[49m\u001b[43m \u001b[49m\u001b[43mwidth\u001b[49m\u001b[43m,\u001b[49m\u001b[43m \u001b[49m\u001b[43mheight\u001b[49m\u001b[43m,\u001b[49m\u001b[43m \u001b[49m\u001b[43mscale\u001b[49m\u001b[43m)\u001b[49m\n",
      "\u001b[36mFile \u001b[39m\u001b[32m~/Documents/GitHub/research/utils/plotter.py:155\u001b[39m, in \u001b[36mexport_png_high_quality\u001b[39m\u001b[34m(fig, filename, width, height, scale)\u001b[39m\n\u001b[32m    152\u001b[39m     filename += \u001b[33m\"\u001b[39m\u001b[33m.png\u001b[39m\u001b[33m\"\u001b[39m\n\u001b[32m    154\u001b[39m \u001b[38;5;66;03m# Export with high quality settings\u001b[39;00m\n\u001b[32m--> \u001b[39m\u001b[32m155\u001b[39m \u001b[43mfig\u001b[49m\u001b[43m.\u001b[49m\u001b[43mwrite_image\u001b[49m\u001b[43m(\u001b[49m\n\u001b[32m    156\u001b[39m \u001b[43m    \u001b[49m\u001b[43mfilename\u001b[49m\u001b[43m,\u001b[49m\n\u001b[32m    157\u001b[39m \u001b[43m    \u001b[49m\u001b[43mwidth\u001b[49m\u001b[43m=\u001b[49m\u001b[43mwidth\u001b[49m\u001b[43m,\u001b[49m\n\u001b[32m    158\u001b[39m \u001b[43m    \u001b[49m\u001b[43mheight\u001b[49m\u001b[43m=\u001b[49m\u001b[43mheight\u001b[49m\u001b[43m,\u001b[49m\n\u001b[32m    159\u001b[39m \u001b[43m    \u001b[49m\u001b[43mscale\u001b[49m\u001b[43m=\u001b[49m\u001b[43mscale\u001b[49m\u001b[43m,\u001b[49m\n\u001b[32m    160\u001b[39m \u001b[43m    \u001b[49m\u001b[38;5;28;43mformat\u001b[39;49m\u001b[43m=\u001b[49m\u001b[33;43m\"\u001b[39;49m\u001b[33;43mpng\u001b[39;49m\u001b[33;43m\"\u001b[39;49m\u001b[43m,\u001b[49m\n\u001b[32m    161\u001b[39m \u001b[43m    \u001b[49m\u001b[43mengine\u001b[49m\u001b[43m=\u001b[49m\u001b[33;43m\"\u001b[39;49m\u001b[33;43mkaleido\u001b[39;49m\u001b[33;43m\"\u001b[39;49m\u001b[43m,\u001b[49m\n\u001b[32m    162\u001b[39m \u001b[43m\u001b[49m\u001b[43m)\u001b[49m\n\u001b[32m    164\u001b[39m \u001b[38;5;28;01mreturn\u001b[39;00m filename\n",
      "\u001b[36mFile \u001b[39m\u001b[32m~/Documents/GitHub/research/.venv/lib/python3.12/site-packages/plotly/basedatatypes.py:3895\u001b[39m, in \u001b[36mBaseFigure.write_image\u001b[39m\u001b[34m(self, *args, **kwargs)\u001b[39m\n\u001b[32m   3891\u001b[39m     \u001b[38;5;28;01mif\u001b[39;00m kwargs.get(\u001b[33m\"\u001b[39m\u001b[33mengine\u001b[39m\u001b[33m\"\u001b[39m, \u001b[38;5;28;01mNone\u001b[39;00m):\n\u001b[32m   3892\u001b[39m         warnings.warn(\n\u001b[32m   3893\u001b[39m             ENGINE_PARAM_DEPRECATION_MSG, \u001b[38;5;167;01mDeprecationWarning\u001b[39;00m, stacklevel=\u001b[32m2\u001b[39m\n\u001b[32m   3894\u001b[39m         )\n\u001b[32m-> \u001b[39m\u001b[32m3895\u001b[39m \u001b[38;5;28;01mreturn\u001b[39;00m \u001b[43mpio\u001b[49m\u001b[43m.\u001b[49m\u001b[43mwrite_image\u001b[49m\u001b[43m(\u001b[49m\u001b[38;5;28;43mself\u001b[39;49m\u001b[43m,\u001b[49m\u001b[43m \u001b[49m\u001b[43m*\u001b[49m\u001b[43margs\u001b[49m\u001b[43m,\u001b[49m\u001b[43m \u001b[49m\u001b[43m*\u001b[49m\u001b[43m*\u001b[49m\u001b[43mkwargs\u001b[49m\u001b[43m)\u001b[49m\n",
      "\u001b[36mFile \u001b[39m\u001b[32m~/Documents/GitHub/research/.venv/lib/python3.12/site-packages/plotly/io/_kaleido.py:555\u001b[39m, in \u001b[36mwrite_image\u001b[39m\u001b[34m(fig, file, format, scale, width, height, validate, engine)\u001b[39m\n\u001b[32m    547\u001b[39m         \u001b[38;5;28;01mraise\u001b[39;00m \u001b[38;5;167;01mValueError\u001b[39;00m(\n\u001b[32m    548\u001b[39m             \u001b[33mf\u001b[39m\u001b[33m\"\"\"\u001b[39m\n\u001b[32m    549\u001b[39m \u001b[33mThe \u001b[39m\u001b[33m'\u001b[39m\u001b[33mfile\u001b[39m\u001b[33m'\u001b[39m\u001b[33m argument \u001b[39m\u001b[33m'\u001b[39m\u001b[38;5;132;01m{\u001b[39;00mfile\u001b[38;5;132;01m}\u001b[39;00m\u001b[33m'\u001b[39m\u001b[33m is not a string, pathlib.Path object, or file descriptor.\u001b[39m\n\u001b[32m    550\u001b[39m \u001b[33m\"\"\"\u001b[39m\n\u001b[32m    551\u001b[39m         )\n\u001b[32m    552\u001b[39m     \u001b[38;5;28;01melse\u001b[39;00m:\n\u001b[32m    553\u001b[39m         \u001b[38;5;66;03m# We previously succeeded in interpreting `file` as a pathlib object.\u001b[39;00m\n\u001b[32m    554\u001b[39m         \u001b[38;5;66;03m# Now we can use `write_bytes()`.\u001b[39;00m\n\u001b[32m--> \u001b[39m\u001b[32m555\u001b[39m         \u001b[43mpath\u001b[49m\u001b[43m.\u001b[49m\u001b[43mwrite_bytes\u001b[49m\u001b[43m(\u001b[49m\u001b[43mimg_data\u001b[49m\u001b[43m)\u001b[49m\n",
      "\u001b[36mFile \u001b[39m\u001b[32m~/.pyenv/versions/3.12.6/lib/python3.12/pathlib.py:1036\u001b[39m, in \u001b[36mPath.write_bytes\u001b[39m\u001b[34m(self, data)\u001b[39m\n\u001b[32m   1034\u001b[39m \u001b[38;5;66;03m# type-check for the buffer interface before truncating the file\u001b[39;00m\n\u001b[32m   1035\u001b[39m view = \u001b[38;5;28mmemoryview\u001b[39m(data)\n\u001b[32m-> \u001b[39m\u001b[32m1036\u001b[39m \u001b[38;5;28;01mwith\u001b[39;00m \u001b[38;5;28;43mself\u001b[39;49m\u001b[43m.\u001b[49m\u001b[43mopen\u001b[49m\u001b[43m(\u001b[49m\u001b[43mmode\u001b[49m\u001b[43m=\u001b[49m\u001b[33;43m'\u001b[39;49m\u001b[33;43mwb\u001b[39;49m\u001b[33;43m'\u001b[39;49m\u001b[43m)\u001b[49m \u001b[38;5;28;01mas\u001b[39;00m f:\n\u001b[32m   1037\u001b[39m     \u001b[38;5;28;01mreturn\u001b[39;00m f.write(view)\n",
      "\u001b[36mFile \u001b[39m\u001b[32m~/.pyenv/versions/3.12.6/lib/python3.12/pathlib.py:1013\u001b[39m, in \u001b[36mPath.open\u001b[39m\u001b[34m(self, mode, buffering, encoding, errors, newline)\u001b[39m\n\u001b[32m   1011\u001b[39m \u001b[38;5;28;01mif\u001b[39;00m \u001b[33m\"\u001b[39m\u001b[33mb\u001b[39m\u001b[33m\"\u001b[39m \u001b[38;5;129;01mnot\u001b[39;00m \u001b[38;5;129;01min\u001b[39;00m mode:\n\u001b[32m   1012\u001b[39m     encoding = io.text_encoding(encoding)\n\u001b[32m-> \u001b[39m\u001b[32m1013\u001b[39m \u001b[38;5;28;01mreturn\u001b[39;00m \u001b[43mio\u001b[49m\u001b[43m.\u001b[49m\u001b[43mopen\u001b[49m\u001b[43m(\u001b[49m\u001b[38;5;28;43mself\u001b[39;49m\u001b[43m,\u001b[49m\u001b[43m \u001b[49m\u001b[43mmode\u001b[49m\u001b[43m,\u001b[49m\u001b[43m \u001b[49m\u001b[43mbuffering\u001b[49m\u001b[43m,\u001b[49m\u001b[43m \u001b[49m\u001b[43mencoding\u001b[49m\u001b[43m,\u001b[49m\u001b[43m \u001b[49m\u001b[43merrors\u001b[49m\u001b[43m,\u001b[49m\u001b[43m \u001b[49m\u001b[43mnewline\u001b[49m\u001b[43m)\u001b[49m\n",
      "\u001b[31mFileNotFoundError\u001b[39m: [Errno 2] No such file or directory: 'pics/pic.png'"
     ]
    }
   ],
   "source": [
    "export_png(\n",
    "    fig, \n",
    "    \"pics/pic.png\",\n",
    "    width=1600,\n",
    "    height=400,\n",
    "    scale=1)\n"
   ]
  },
  {
   "cell_type": "code",
   "execution_count": null,
   "id": "1e3b2a2f",
   "metadata": {},
   "outputs": [],
   "source": []
  }
 ],
 "metadata": {
  "kernelspec": {
   "display_name": ".venv",
   "language": "python",
   "name": "python3"
  },
  "language_info": {
   "codemirror_mode": {
    "name": "ipython",
    "version": 3
   },
   "file_extension": ".py",
   "mimetype": "text/x-python",
   "name": "python",
   "nbconvert_exporter": "python",
   "pygments_lexer": "ipython3",
   "version": "3.12.6"
  }
 },
 "nbformat": 4,
 "nbformat_minor": 5
}
